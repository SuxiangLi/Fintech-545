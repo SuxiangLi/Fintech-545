{
  "nbformat": 4,
  "nbformat_minor": 0,
  "metadata": {
    "colab": {
      "provenance": []
    },
    "kernelspec": {
      "name": "python3",
      "display_name": "Python 3"
    },
    "language_info": {
      "name": "python"
    }
  },
  "cells": [
    {
      "cell_type": "code",
      "source": [
        "import numpy as np\n",
        "import matplotlib.pyplot as plt\n",
        "import pandas as pd\n",
        "import scipy.stats as stats\n",
        "import statsmodels.api as sm\n",
        "from scipy.stats import norm\n",
        "from statsmodels.tsa.ar_model import AutoReg"
      ],
      "metadata": {
        "id": "iqOUMi5audnx"
      },
      "execution_count": 4,
      "outputs": []
    },
    {
      "cell_type": "markdown",
      "source": [
        "## Problem 1"
      ],
      "metadata": {
        "id": "G2mP8s5FujAF"
      }
    },
    {
      "cell_type": "code",
      "execution_count": 5,
      "metadata": {
        "id": "ouKlGRabuTRa",
        "colab": {
          "base_uri": "https://localhost:8080/",
          "height": 331
        },
        "outputId": "d0d9e39b-2602-4109-883f-56ec6e5c7e4c"
      },
      "outputs": [
        {
          "output_type": "stream",
          "name": "stdout",
          "text": [
            "Expected value of price at time T: 100.32710082273083\n",
            "Standard deviation of price at time T: 6.175173363726958\n"
          ]
        },
        {
          "output_type": "display_data",
          "data": {
            "text/plain": [
              "<Figure size 432x288 with 1 Axes>"
            ],
            "image/png": "[encoded data removed]"
          },
          "metadata": {
            "needs_background": "light"
          }
        }
      ],
      "source": [
        "#Classical Brownian Motion\n",
        "\n",
        "# Define parameters\n",
        "mu = 0  # mean of return\n",
        "sigma = 0.2  # standard deviation of return\n",
        "T = 1000  # time horizon\n",
        "n = 1000  # number of simulations\n",
        "\n",
        "# Define initial price\n",
        "p_0 = 100\n",
        "\n",
        "# Calculate prices at time T\n",
        "sum_p_t = []\n",
        "for i in range(n):\n",
        "  r = np.random.normal(mu, sigma, T)\n",
        "  p_t = p_0 + np.cumsum(r)\n",
        "  sum_p_t.append(p_t[-1])\n",
        "\n",
        "# Calculate expected value of price at time T\n",
        "E_p_t = np.mean(sum_p_t)\n",
        "\n",
        "# Calculate standard deviation of price at time T\n",
        "std_p_t = np.std(sum_p_t)\n",
        "\n",
        "print(f\"Expected value of price at time T: {E_p_t}\")\n",
        "print(f\"Standard deviation of price at time T: {std_p_t}\")\n",
        "\n",
        "# Plot price over time\n",
        "plt.plot(p_t)\n",
        "plt.title(\"Price over time\")\n",
        "plt.xlabel(\"Time\")\n",
        "plt.ylabel(\"Price\")\n",
        "plt.show()"
      ]
    },
    {
      "cell_type": "code",
      "source": [
        "exp_sd = sigma * np.sqrt(T)\n",
        "exp_sd"
      ],
      "metadata": {
        "colab": {
          "base_uri": "https://localhost:8080/"
        },
        "id": "sx7ZaANOGKaf",
        "outputId": "a601d6ff-4556-493a-f73d-1bb0a63a17ec"
      },
      "execution_count": 6,
      "outputs": [
        {
          "output_type": "execute_result",
          "data": {
            "text/plain": [
              "6.324555320336759"
            ]
          },
          "metadata": {},
          "execution_count": 6
        }
      ]
    },
    {
      "cell_type": "code",
      "source": [
        "#Arithmetic Return System\n",
        "\n",
        "# Set simulation parameters\n",
        "T = 1000  # number of time steps\n",
        "sigma = 0.02\n",
        "n = 1000\n",
        "# Initialize arrayP\n",
        "P_0 = 100\n",
        "P_sum = []\n",
        "p_2 = []\n",
        "for i in range(n):\n",
        "    r = np.random.normal(0, sigma, size = T)\n",
        "    P = P_0 * np.cumprod(1+r)\n",
        "    P_sum.append(P[-1])\n",
        "    p_2.append(P[-2])\n",
        "# Print mean and standard deviation of P\n",
        "print(\"Mean of P:\", np.mean(P_sum))\n",
        "print(\"Standard deviation of P:\", np.std(P_sum))\n",
        "\n",
        "# Plot price over time\n",
        "plt.plot(P)\n",
        "plt.title(\"Price over time\")\n",
        "plt.xlabel(\"Time\")\n",
        "plt.ylabel(\"Price\")\n",
        "plt.show()"
      ],
      "metadata": {
        "colab": {
          "base_uri": "https://localhost:8080/",
          "height": 331
        },
        "id": "ccAMuhOTB1ac",
        "outputId": "3f38cc11-90a4-4e23-c1e1-a80f76fdacea"
      },
      "execution_count": 11,
      "outputs": [
        {
          "output_type": "stream",
          "name": "stdout",
          "text": [
            "Mean of P: 97.01556522443481\n",
            "Standard deviation of P: 66.93666804930811\n"
          ]
        },
        {
          "output_type": "display_data",
          "data": {
            "text/plain": [
              "<Figure size 432x288 with 1 Axes>"
            ],
            "image/png": "[encoded data removed]"
          },
          "metadata": {
            "needs_background": "light"
          }
        }
      ]
    },
    {
      "cell_type": "code",
      "source": [
        "exp_sd = np.mean(np.std(p_2))\n",
        "exp_sd"
      ],
      "metadata": {
        "colab": {
          "base_uri": "https://localhost:8080/"
        },
        "id": "a_TYOO_AIfaC",
        "outputId": "9df4f20f-6ba8-41c3-aa59-74c8be7a2554"
      },
      "execution_count": 16,
      "outputs": [
        {
          "output_type": "execute_result",
          "data": {
            "text/plain": [
              "66.84226006813446"
            ]
          },
          "metadata": {},
          "execution_count": 16
        }
      ]
    },
    {
      "cell_type": "code",
      "source": [
        "#Geometric Brownian Motion\n",
        "\n",
        "# Set simulation parameters\n",
        "T = 1000  # number of time steps\n",
        "sigma = 0.02\n",
        "n = 1000\n",
        "# Initialize arrayP\n",
        "P_0 = 100\n",
        "P_sum = []\n",
        "for i in range(n):\n",
        "    r = np.random.normal(0, sigma, size = T)\n",
        "    P = P_0 * np.exp(np.cumsum(r))\n",
        "    P_sum.append(P[-1])\n",
        "# Print mean and standard deviation of P\n",
        "print(\"Mean of P:\", np.mean(P_sum))\n",
        "print(\"Standard deviation of P:\", np.std(P_sum))\n",
        "\n",
        "# Plot price over time\n",
        "plt.plot(P)\n",
        "plt.title(\"Price over time\")\n",
        "plt.xlabel(\"Time\")\n",
        "plt.ylabel(\"Price\")\n",
        "plt.show()"
      ],
      "metadata": {
        "colab": {
          "base_uri": "https://localhost:8080/",
          "height": 331
        },
        "id": "_QN4RfFgFcRu",
        "outputId": "e03dd96c-98fa-4936-ef6c-e0f76e2522ab"
      },
      "execution_count": 153,
      "outputs": [
        {
          "output_type": "stream",
          "name": "stdout",
          "text": [
            "Mean of P: 121.12276053740375\n",
            "Standard deviation of P: 81.460525362564\n"
          ]
        },
        {
          "output_type": "display_data",
          "data": {
            "text/plain": [
              "<Figure size 432x288 with 1 Axes>"
            ],
            "image/png": "[encoded data removed]"
          },
          "metadata": {
            "needs_background": "light"
          }
        }
      ]
    },
    {
      "cell_type": "code",
      "source": [
        "mu = (sigma**2/2)\n",
        "exp_mean = P_0 * np.exp(mu*T)\n",
        "exp_sd = P_0 * np.sqrt((np.exp(sigma**2 * T) - 1) * np.exp(2 * mu * T))\n",
        "exp_mean, exp_sd"
      ],
      "metadata": {
        "colab": {
          "base_uri": "https://localhost:8080/"
        },
        "id": "gByPY-gkFuNA",
        "outputId": "c90d8d2a-1edc-46f6-e3bd-0922c6d7898b"
      },
      "execution_count": 159,
      "outputs": [
        {
          "output_type": "execute_result",
          "data": {
            "text/plain": [
              "(122.14027581601698, 85.65723733877934)"
            ]
          },
          "metadata": {},
          "execution_count": 159
        }
      ]
    },
    {
      "cell_type": "markdown",
      "source": [
        "## Problem 2"
      ],
      "metadata": {
        "id": "-iUqhyfVOu8_"
      }
    },
    {
      "cell_type": "code",
      "source": [
        "def return_calculate(prices, method='DISCRETE', date_column='date'):\n",
        "    vars = prices.columns\n",
        "    n_vars = len(vars)\n",
        "    vars = [v for v in vars if v != date_column]\n",
        "    if n_vars == len(vars):\n",
        "        raise ValueError(f'{date_column} not in DataFrame {vars}')\n",
        "    n_vars = len(vars)\n",
        "    p = prices[vars].to_numpy()\n",
        "    n, m = p.shape\n",
        "    p2 = np.empty((n - 1, m))\n",
        "    for i in range(n - 1):\n",
        "        p2[i, :] = p[i + 1, :] / p[i, :]\n",
        "    if method.upper() == 'DISCRETE':\n",
        "        p2 -= 1.0\n",
        "    elif method.upper() == 'LOG':\n",
        "        p2 = np.log(p2)\n",
        "    else:\n",
        "        raise ValueError(f'method {method} must be in (\"LOG\", \"DISCRETE\")')\n",
        "    dates = prices.iloc[1:, prices.columns.get_loc(date_column)]\n",
        "    out = pd.DataFrame({date_column: dates})\n",
        "    for i in range(n_vars):\n",
        "        out[vars[i]] = p2[:, i]\n",
        "    return out"
      ],
      "metadata": {
        "id": "0W5S8brlLHpU"
      },
      "execution_count": 167,
      "outputs": []
    },
    {
      "cell_type": "code",
      "source": [
        "from google.colab import drive\n",
        "drive.mount('/content/drive')\n",
        "portfolio = pd.read_csv('/content/drive/MyDrive/Fintech545_HW3/portfolio.csv')\n",
        "prices = pd.read_csv('/content/drive/MyDrive/Fintech545_HW3/DailyPrices.csv')"
      ],
      "metadata": {
        "colab": {
          "base_uri": "https://localhost:8080/"
        },
        "id": "5Wzp1FhZRIx5",
        "outputId": "79d8046e-d1f0-4677-f7b5-f747d3636eb1"
      },
      "execution_count": 191,
      "outputs": [
        {
          "output_type": "stream",
          "name": "stdout",
          "text": [
            "Drive already mounted at /content/drive; to attempt to forcibly remount, call drive.mount(\"/content/drive\", force_remount=True).\n"
          ]
        }
      ]
    },
    {
      "cell_type": "code",
      "source": [
        "#Arithmetic return\n",
        "areturn = return_calculate(prices, method='DISCRETE', date_column='Date')\n",
        "areturn"
      ],
      "metadata": {
        "colab": {
          "base_uri": "https://localhost:8080/",
          "height": 697
        },
        "id": "XxHVD3ZxRhgY",
        "outputId": "ca7dbe08-b73b-4e74-f87c-22c105ea81f5"
      },
      "execution_count": 173,
      "outputs": [
        {
          "output_type": "stream",
          "name": "stderr",
          "text": [
            "<ipython-input-167-e8110a22f8f6>:22: PerformanceWarning: DataFrame is highly fragmented.  This is usually the result of calling `frame.insert` many times, which has poor performance.  Consider joining all columns at once using pd.concat(axis=1) instead.  To get a de-fragmented frame, use `newframe = frame.copy()`\n",
            "  out[vars[i]] = p2[:, i]\n"
          ]
        },
        {
          "output_type": "execute_result",
          "data": {
            "text/plain": [
              "               Date       SPY      AAPL      MSFT      AMZN      TSLA  \\\n",
              "1    2/15/2022 0:00  0.016127  0.023152  0.018542  0.008658  0.053291   \n",
              "2    2/16/2022 0:00  0.001121 -0.001389 -0.001167  0.010159  0.001041   \n",
              "3    2/17/2022 0:00 -0.021361 -0.021269 -0.029282 -0.021809 -0.050943   \n",
              "4    2/18/2022 0:00 -0.006475 -0.009356 -0.009631 -0.013262 -0.022103   \n",
              "5    2/22/2022 0:00 -0.010732 -0.017812 -0.000729 -0.015753 -0.041366   \n",
              "..              ...       ...       ...       ...       ...       ...   \n",
              "244   2/3/2023 0:00 -0.010629  0.024400 -0.023621 -0.084315  0.009083   \n",
              "245   2/6/2023 0:00 -0.006111 -0.017929 -0.006116 -0.011703  0.025161   \n",
              "246   2/7/2023 0:00  0.013079  0.019245  0.042022 -0.000685  0.010526   \n",
              "247   2/8/2023 0:00 -0.010935 -0.017653 -0.003102 -0.020174  0.022763   \n",
              "248   2/9/2023 0:00 -0.008669 -0.006912 -0.011660 -0.018091  0.029957   \n",
              "\n",
              "        GOOGL      GOOG      META      NVDA  ...       PNC      MDLZ  \\\n",
              "1    0.007987  0.008319  0.015158  0.091812  ...  0.012807 -0.004082   \n",
              "2    0.008268  0.007784 -0.020181  0.000604  ...  0.006757 -0.002429   \n",
              "3   -0.037746 -0.037669 -0.040778 -0.075591  ... -0.034949  0.005326   \n",
              "4   -0.016116 -0.013914 -0.007462 -0.035296  ... -0.000646 -0.000908   \n",
              "5   -0.004521 -0.008163 -0.019790 -0.010659  ...  0.009494  0.007121   \n",
              "..        ...       ...       ...       ...  ...       ...       ...   \n",
              "244 -0.027474 -0.032904 -0.011866 -0.028053  ... -0.004694 -0.011251   \n",
              "245 -0.017942 -0.016632 -0.002520 -0.000521  ... -0.014451  0.003945   \n",
              "246  0.046064  0.044167  0.029883  0.051401  ... -0.000368 -0.016473   \n",
              "247 -0.076830 -0.074417 -0.042741  0.001443  ... -0.008469 -0.004456   \n",
              "248 -0.043876 -0.045400 -0.030039  0.005945  ... -0.016588 -0.007717   \n",
              "\n",
              "           MO       ADI      GILD       LMT       SYK        GM       TFC  \\\n",
              "1    0.004592  0.052344  0.003600 -0.012275  0.033021  0.026240  0.028572   \n",
              "2    0.005763  0.038879  0.009294  0.012244  0.003363  0.015301 -0.001389   \n",
              "3    0.015017 -0.046988 -0.009855  0.004833 -0.030857 -0.031925 -0.033380   \n",
              "4    0.007203 -0.000436 -0.003916 -0.005942 -0.013674 -0.004506 -0.003677   \n",
              "5   -0.008891  0.003243 -0.001147 -0.000673  0.008342 -0.037654 -0.002246   \n",
              "..        ...       ...       ...       ...       ...       ...       ...   \n",
              "244 -0.001277 -0.002677  0.038211  0.004134  0.002336 -0.008916 -0.005954   \n",
              "245  0.001066 -0.007102  0.022012  0.021826 -0.041181  0.005106 -0.009782   \n",
              "246 -0.008518  0.019544 -0.003590 -0.001641  0.003573  0.001451  0.008669   \n",
              "247 -0.001289 -0.018009 -0.004416  0.002819 -0.015526  0.004106 -0.015391   \n",
              "248 -0.003656  0.004275 -0.001634  0.000937 -0.014391  0.001443 -0.016619   \n",
              "\n",
              "          TJX  \n",
              "1    0.013237  \n",
              "2   -0.025984  \n",
              "3   -0.028763  \n",
              "4    0.015038  \n",
              "5   -0.013605  \n",
              "..        ...  \n",
              "244  0.001617  \n",
              "245 -0.004595  \n",
              "246 -0.003618  \n",
              "247  0.009363  \n",
              "248  0.005603  \n",
              "\n",
              "[248 rows x 101 columns]"
            ],
            "text/html": [
              "\n",
              "  <div id=\"df-b1260040-d5c8-47c6-b0e9-f92da0dfd0f9\">\n",
              "    <div class=\"colab-df-container\">\n",
              "      <div>\n",
              "<style scoped>\n",
              "    .dataframe tbody tr th:only-of-type {\n",
              "        vertical-align: middle;\n",
              "    }\n",
              "\n",
              "    .dataframe tbody tr th {\n",
              "        vertical-align: top;\n",
              "    }\n",
              "\n",
              "    .dataframe thead th {\n",
              "        text-align: right;\n",
              "    }\n",
              "</style>\n",
              "<table border=\"1\" class=\"dataframe\">\n",
              "  <thead>\n",
              "    <tr style=\"text-align: right;\">\n",
              "      <th></th>\n",
              "      <th>Date</th>\n",
              "      <th>SPY</th>\n",
              "      <th>AAPL</th>\n",
              "      <th>MSFT</th>\n",
              "      <th>AMZN</th>\n",
              "      <th>TSLA</th>\n",
              "      <th>GOOGL</th>\n",
              "      <th>GOOG</th>\n",
              "      <th>META</th>\n",
              "      <th>NVDA</th>\n",
              "      <th>...</th>\n",
              "      <th>PNC</th>\n",
              "      <th>MDLZ</th>\n",
              "      <th>MO</th>\n",
              "      <th>ADI</th>\n",
              "      <th>GILD</th>\n",
              "      <th>LMT</th>\n",
              "      <th>SYK</th>\n",
              "      <th>GM</th>\n",
              "      <th>TFC</th>\n",
              "      <th>TJX</th>\n",
              "    </tr>\n",
              "  </thead>\n",
              "  <tbody>\n",
              "    <tr>\n",
              "      <th>1</th>\n",
              "      <td>2/15/2022 0:00</td>\n",
              "      <td>0.016127</td>\n",
              "      <td>0.023152</td>\n",
              "      <td>0.018542</td>\n",
              "      <td>0.008658</td>\n",
              "      <td>0.053291</td>\n",
              "      <td>0.007987</td>\n",
              "      <td>0.008319</td>\n",
              "      <td>0.015158</td>\n",
              "      <td>0.091812</td>\n",
              "      <td>...</td>\n",
              "      <td>0.012807</td>\n",
              "      <td>-0.004082</td>\n",
              "      <td>0.004592</td>\n",
              "      <td>0.052344</td>\n",
              "      <td>0.003600</td>\n",
              "      <td>-0.012275</td>\n",
              "      <td>0.033021</td>\n",
              "      <td>0.026240</td>\n",
              "      <td>0.028572</td>\n",
              "      <td>0.013237</td>\n",
              "    </tr>\n",
              "    <tr>\n",
              "      <th>2</th>\n",
              "      <td>2/16/2022 0:00</td>\n",
              "      <td>0.001121</td>\n",
              "      <td>-0.001389</td>\n",
              "      <td>-0.001167</td>\n",
              "      <td>0.010159</td>\n",
              "      <td>0.001041</td>\n",
              "      <td>0.008268</td>\n",
              "      <td>0.007784</td>\n",
              "      <td>-0.020181</td>\n",
              "      <td>0.000604</td>\n",
              "      <td>...</td>\n",
              "      <td>0.006757</td>\n",
              "      <td>-0.002429</td>\n",
              "      <td>0.005763</td>\n",
              "      <td>0.038879</td>\n",
              "      <td>0.009294</td>\n",
              "      <td>0.012244</td>\n",
              "      <td>0.003363</td>\n",
              "      <td>0.015301</td>\n",
              "      <td>-0.001389</td>\n",
              "      <td>-0.025984</td>\n",
              "    </tr>\n",
              "    <tr>\n",
              "      <th>3</th>\n",
              "      <td>2/17/2022 0:00</td>\n",
              "      <td>-0.021361</td>\n",
              "      <td>-0.021269</td>\n",
              "      <td>-0.029282</td>\n",
              "      <td>-0.021809</td>\n",
              "      <td>-0.050943</td>\n",
              "      <td>-0.037746</td>\n",
              "      <td>-0.037669</td>\n",
              "      <td>-0.040778</td>\n",
              "      <td>-0.075591</td>\n",
              "      <td>...</td>\n",
              "      <td>-0.034949</td>\n",
              "      <td>0.005326</td>\n",
              "      <td>0.015017</td>\n",
              "      <td>-0.046988</td>\n",
              "      <td>-0.009855</td>\n",
              "      <td>0.004833</td>\n",
              "      <td>-0.030857</td>\n",
              "      <td>-0.031925</td>\n",
              "      <td>-0.033380</td>\n",
              "      <td>-0.028763</td>\n",
              "    </tr>\n",
              "    <tr>\n",
              "      <th>4</th>\n",
              "      <td>2/18/2022 0:00</td>\n",
              "      <td>-0.006475</td>\n",
              "      <td>-0.009356</td>\n",
              "      <td>-0.009631</td>\n",
              "      <td>-0.013262</td>\n",
              "      <td>-0.022103</td>\n",
              "      <td>-0.016116</td>\n",
              "      <td>-0.013914</td>\n",
              "      <td>-0.007462</td>\n",
              "      <td>-0.035296</td>\n",
              "      <td>...</td>\n",
              "      <td>-0.000646</td>\n",
              "      <td>-0.000908</td>\n",
              "      <td>0.007203</td>\n",
              "      <td>-0.000436</td>\n",
              "      <td>-0.003916</td>\n",
              "      <td>-0.005942</td>\n",
              "      <td>-0.013674</td>\n",
              "      <td>-0.004506</td>\n",
              "      <td>-0.003677</td>\n",
              "      <td>0.015038</td>\n",
              "    </tr>\n",
              "    <tr>\n",
              "      <th>5</th>\n",
              "      <td>2/22/2022 0:00</td>\n",
              "      <td>-0.010732</td>\n",
              "      <td>-0.017812</td>\n",
              "      <td>-0.000729</td>\n",
              "      <td>-0.015753</td>\n",
              "      <td>-0.041366</td>\n",
              "      <td>-0.004521</td>\n",
              "      <td>-0.008163</td>\n",
              "      <td>-0.019790</td>\n",
              "      <td>-0.010659</td>\n",
              "      <td>...</td>\n",
              "      <td>0.009494</td>\n",
              "      <td>0.007121</td>\n",
              "      <td>-0.008891</td>\n",
              "      <td>0.003243</td>\n",
              "      <td>-0.001147</td>\n",
              "      <td>-0.000673</td>\n",
              "      <td>0.008342</td>\n",
              "      <td>-0.037654</td>\n",
              "      <td>-0.002246</td>\n",
              "      <td>-0.013605</td>\n",
              "    </tr>\n",
              "    <tr>\n",
              "      <th>...</th>\n",
              "      <td>...</td>\n",
              "      <td>...</td>\n",
              "      <td>...</td>\n",
              "      <td>...</td>\n",
              "      <td>...</td>\n",
              "      <td>...</td>\n",
              "      <td>...</td>\n",
              "      <td>...</td>\n",
              "      <td>...</td>\n",
              "      <td>...</td>\n",
              "      <td>...</td>\n",
              "      <td>...</td>\n",
              "      <td>...</td>\n",
              "      <td>...</td>\n",
              "      <td>...</td>\n",
              "      <td>...</td>\n",
              "      <td>...</td>\n",
              "      <td>...</td>\n",
              "      <td>...</td>\n",
              "      <td>...</td>\n",
              "      <td>...</td>\n",
              "    </tr>\n",
              "    <tr>\n",
              "      <th>244</th>\n",
              "      <td>2/3/2023 0:00</td>\n",
              "      <td>-0.010629</td>\n",
              "      <td>0.024400</td>\n",
              "      <td>-0.023621</td>\n",
              "      <td>-0.084315</td>\n",
              "      <td>0.009083</td>\n",
              "      <td>-0.027474</td>\n",
              "      <td>-0.032904</td>\n",
              "      <td>-0.011866</td>\n",
              "      <td>-0.028053</td>\n",
              "      <td>...</td>\n",
              "      <td>-0.004694</td>\n",
              "      <td>-0.011251</td>\n",
              "      <td>-0.001277</td>\n",
              "      <td>-0.002677</td>\n",
              "      <td>0.038211</td>\n",
              "      <td>0.004134</td>\n",
              "      <td>0.002336</td>\n",
              "      <td>-0.008916</td>\n",
              "      <td>-0.005954</td>\n",
              "      <td>0.001617</td>\n",
              "    </tr>\n",
              "    <tr>\n",
              "      <th>245</th>\n",
              "      <td>2/6/2023 0:00</td>\n",
              "      <td>-0.006111</td>\n",
              "      <td>-0.017929</td>\n",
              "      <td>-0.006116</td>\n",
              "      <td>-0.011703</td>\n",
              "      <td>0.025161</td>\n",
              "      <td>-0.017942</td>\n",
              "      <td>-0.016632</td>\n",
              "      <td>-0.002520</td>\n",
              "      <td>-0.000521</td>\n",
              "      <td>...</td>\n",
              "      <td>-0.014451</td>\n",
              "      <td>0.003945</td>\n",
              "      <td>0.001066</td>\n",
              "      <td>-0.007102</td>\n",
              "      <td>0.022012</td>\n",
              "      <td>0.021826</td>\n",
              "      <td>-0.041181</td>\n",
              "      <td>0.005106</td>\n",
              "      <td>-0.009782</td>\n",
              "      <td>-0.004595</td>\n",
              "    </tr>\n",
              "    <tr>\n",
              "      <th>246</th>\n",
              "      <td>2/7/2023 0:00</td>\n",
              "      <td>0.013079</td>\n",
              "      <td>0.019245</td>\n",
              "      <td>0.042022</td>\n",
              "      <td>-0.000685</td>\n",
              "      <td>0.010526</td>\n",
              "      <td>0.046064</td>\n",
              "      <td>0.044167</td>\n",
              "      <td>0.029883</td>\n",
              "      <td>0.051401</td>\n",
              "      <td>...</td>\n",
              "      <td>-0.000368</td>\n",
              "      <td>-0.016473</td>\n",
              "      <td>-0.008518</td>\n",
              "      <td>0.019544</td>\n",
              "      <td>-0.003590</td>\n",
              "      <td>-0.001641</td>\n",
              "      <td>0.003573</td>\n",
              "      <td>0.001451</td>\n",
              "      <td>0.008669</td>\n",
              "      <td>-0.003618</td>\n",
              "    </tr>\n",
              "    <tr>\n",
              "      <th>247</th>\n",
              "      <td>2/8/2023 0:00</td>\n",
              "      <td>-0.010935</td>\n",
              "      <td>-0.017653</td>\n",
              "      <td>-0.003102</td>\n",
              "      <td>-0.020174</td>\n",
              "      <td>0.022763</td>\n",
              "      <td>-0.076830</td>\n",
              "      <td>-0.074417</td>\n",
              "      <td>-0.042741</td>\n",
              "      <td>0.001443</td>\n",
              "      <td>...</td>\n",
              "      <td>-0.008469</td>\n",
              "      <td>-0.004456</td>\n",
              "      <td>-0.001289</td>\n",
              "      <td>-0.018009</td>\n",
              "      <td>-0.004416</td>\n",
              "      <td>0.002819</td>\n",
              "      <td>-0.015526</td>\n",
              "      <td>0.004106</td>\n",
              "      <td>-0.015391</td>\n",
              "      <td>0.009363</td>\n",
              "    </tr>\n",
              "    <tr>\n",
              "      <th>248</th>\n",
              "      <td>2/9/2023 0:00</td>\n",
              "      <td>-0.008669</td>\n",
              "      <td>-0.006912</td>\n",
              "      <td>-0.011660</td>\n",
              "      <td>-0.018091</td>\n",
              "      <td>0.029957</td>\n",
              "      <td>-0.043876</td>\n",
              "      <td>-0.045400</td>\n",
              "      <td>-0.030039</td>\n",
              "      <td>0.005945</td>\n",
              "      <td>...</td>\n",
              "      <td>-0.016588</td>\n",
              "      <td>-0.007717</td>\n",
              "      <td>-0.003656</td>\n",
              "      <td>0.004275</td>\n",
              "      <td>-0.001634</td>\n",
              "      <td>0.000937</td>\n",
              "      <td>-0.014391</td>\n",
              "      <td>0.001443</td>\n",
              "      <td>-0.016619</td>\n",
              "      <td>0.005603</td>\n",
              "    </tr>\n",
              "  </tbody>\n",
              "</table>\n",
              "<p>248 rows × 101 columns</p>\n",
              "</div>\n",
              "      <button class=\"colab-df-convert\" onclick=\"convertToInteractive('df-b1260040-d5c8-47c6-b0e9-f92da0dfd0f9')\"\n",
              "              title=\"Convert this dataframe to an interactive table.\"\n",
              "              style=\"display:none;\">\n",
              "        \n",
              "  <svg xmlns=\"http://www.w3.org/2000/svg\" height=\"24px\"viewBox=\"0 0 24 24\"\n",
              "       width=\"24px\">\n",
              "    <path d=\"M0 0h24v24H0V0z\" fill=\"none\"/>\n",
              "    <path d=\"M18.56 5.44l.94 2.06.94-2.06 2.06-.94-2.06-.94-.94-2.06-.94 2.06-2.06.94zm-11 1L8.5 8.5l.94-2.06 2.06-.94-2.06-.94L8.5 2.5l-.94 2.06-2.06.94zm10 10l.94 2.06.94-2.06 2.06-.94-2.06-.94-.94-2.06-.94 2.06-2.06.94z\"/><path d=\"M17.41 7.96l-1.37-1.37c-.4-.4-.92-.59-1.43-.59-.52 0-1.04.2-1.43.59L10.3 9.45l-7.72 7.72c-.78.78-.78 2.05 0 2.83L4 21.41c.39.39.9.59 1.41.59.51 0 1.02-.2 1.41-.59l7.78-7.78 2.81-2.81c.8-.78.8-2.07 0-2.86zM5.41 20L4 18.59l7.72-7.72 1.47 1.35L5.41 20z\"/>\n",
              "  </svg>\n",
              "      </button>\n",
              "      \n",
              "  <style>\n",
              "    .colab-df-container {\n",
              "      display:flex;\n",
              "      flex-wrap:wrap;\n",
              "      gap: 12px;\n",
              "    }\n",
              "\n",
              "    .colab-df-convert {\n",
              "      background-color: #E8F0FE;\n",
              "      border: none;\n",
              "      border-radius: 50%;\n",
              "      cursor: pointer;\n",
              "      display: none;\n",
              "      fill: #1967D2;\n",
              "      height: 32px;\n",
              "      padding: 0 0 0 0;\n",
              "      width: 32px;\n",
              "    }\n",
              "\n",
              "    .colab-df-convert:hover {\n",
              "      background-color: #E2EBFA;\n",
              "      box-shadow: 0px 1px 2px rgba(60, 64, 67, 0.3), 0px 1px 3px 1px rgba(60, 64, 67, 0.15);\n",
              "      fill: #174EA6;\n",
              "    }\n",
              "\n",
              "    [theme=dark] .colab-df-convert {\n",
              "      background-color: #3B4455;\n",
              "      fill: #D2E3FC;\n",
              "    }\n",
              "\n",
              "    [theme=dark] .colab-df-convert:hover {\n",
              "      background-color: #434B5C;\n",
              "      box-shadow: 0px 1px 3px 1px rgba(0, 0, 0, 0.15);\n",
              "      filter: drop-shadow(0px 1px 2px rgba(0, 0, 0, 0.3));\n",
              "      fill: #FFFFFF;\n",
              "    }\n",
              "  </style>\n",
              "\n",
              "      <script>\n",
              "        const buttonEl =\n",
              "          document.querySelector('#df-b1260040-d5c8-47c6-b0e9-f92da0dfd0f9 button.colab-df-convert');\n",
              "        buttonEl.style.display =\n",
              "          google.colab.kernel.accessAllowed ? 'block' : 'none';\n",
              "\n",
              "        async function convertToInteractive(key) {\n",
              "          const element = document.querySelector('#df-b1260040-d5c8-47c6-b0e9-f92da0dfd0f9');\n",
              "          const dataTable =\n",
              "            await google.colab.kernel.invokeFunction('convertToInteractive',\n",
              "                                                     [key], {});\n",
              "          if (!dataTable) return;\n",
              "\n",
              "          const docLinkHtml = 'Like what you see? Visit the ' +\n",
              "            '<a target=\"_blank\" href=https://colab.research.google.com/notebooks/data_table.ipynb>data table notebook</a>'\n",
              "            + ' to learn more about interactive tables.';\n",
              "          element.innerHTML = '';\n",
              "          dataTable['output_type'] = 'display_data';\n",
              "          await google.colab.output.renderOutput(dataTable, element);\n",
              "          const docLink = document.createElement('div');\n",
              "          docLink.innerHTML = docLinkHtml;\n",
              "          element.appendChild(docLink);\n",
              "        }\n",
              "      </script>\n",
              "    </div>\n",
              "  </div>\n",
              "  "
            ]
          },
          "metadata": {},
          "execution_count": 173
        }
      ]
    },
    {
      "cell_type": "code",
      "source": [
        "meta = areturn['META']\n",
        "meta = meta - np.mean(meta)\n",
        "meta"
      ],
      "metadata": {
        "colab": {
          "base_uri": "https://localhost:8080/"
        },
        "id": "yCtwEZZ3SpJf",
        "outputId": "1f0f30a8-2a55-4b9e-82d1-3ca3589dbd36"
      },
      "execution_count": 187,
      "outputs": [
        {
          "output_type": "execute_result",
          "data": {
            "text/plain": [
              "1      0.015175\n",
              "2     -0.020165\n",
              "3     -0.040761\n",
              "4     -0.007446\n",
              "5     -0.019774\n",
              "         ...   \n",
              "244   -0.011850\n",
              "245   -0.002503\n",
              "246    0.029899\n",
              "247   -0.042725\n",
              "248   -0.030022\n",
              "Name: META, Length: 248, dtype: float64"
            ]
          },
          "metadata": {},
          "execution_count": 187
        }
      ]
    },
    {
      "cell_type": "code",
      "source": [
        "# Define portfolio size and confidence level\n",
        "#portfolio_size = 1_000_000\n",
        "confidence_level = 0.95\n",
        "\n",
        "# 1. VaR using normal distribution\n",
        "std_dev = meta.std()\n",
        "z_score = stats.norm.ppf(confidence_level)\n",
        "var_normal = -(std_dev * z_score)\n",
        "print(f\"VaR using normal distribution: {var_normal:.5f}\")\n",
        "\n",
        "# 2. VaR using normal distribution with EWM variance (lambda = 0.94)\n",
        "variance = meta.ewm(alpha=0.06).var().iloc[-1]\n",
        "std_dev_ewm = np.sqrt(variance)\n",
        "z_score_ewm = stats.norm.ppf(confidence_level)\n",
        "var_ewm = -(std_dev_ewm * z_score_ewm)\n",
        "print(f\"VaR using normal distribution with EWM variance: {var_ewm:.5f}\")\n",
        "\n",
        "# 3. VaR using MLE fitted T distribution\n",
        "params = stats.t.fit(meta)\n",
        "t_dist = stats.t(*params)\n",
        "var_tdist = -t_dist.ppf(confidence_level)\n",
        "print(f\"VaR using MLE fitted T distribution: {var_tdist:.5f}\")\n",
        "\n",
        "# 4. VaR using fitted AR(1) model\n",
        "model = sm.tsa.AR(meta)\n",
        "results = model.fit(maxlag=1)\n",
        "rho = results.params[1]\n",
        "var_ar1 = -(rho * meta.mean() + np.sqrt(1 - rho ** 2) * meta.std() * stats.norm.ppf(confidence_level))\n",
        "print(f\"VaR using fitted AR(1) model: {var_ar1:.5f}\")\n",
        "\n",
        "# 5. VaR using Historic Simulation\n",
        "data_sorted = meta.sort_values()\n",
        "var_hist = -data_sorted.quantile(1 - confidence_level)\n",
        "print(f\"VaR using Historic Simulation: {var_hist:.5f}\")"
      ],
      "metadata": {
        "colab": {
          "base_uri": "https://localhost:8080/"
        },
        "id": "9JTsqEB0YHC_",
        "outputId": "abe81c6b-12ed-42a0-a0a7-48bd187e6978"
      },
      "execution_count": 190,
      "outputs": [
        {
          "output_type": "stream",
          "name": "stdout",
          "text": [
            "VaR using normal distribution: -0.06560\n",
            "VaR using normal distribution with EWM variance: -0.09019\n",
            "VaR using MLE fitted T distribution: -0.05693\n",
            "VaR using fitted AR(1) model: -0.06560\n",
            "VaR using Historic Simulation: 0.05462\n"
          ]
        }
      ]
    },
    {
      "cell_type": "markdown",
      "source": [
        "## Problem 3"
      ],
      "metadata": {
        "id": "BJ_eaUi0hE19"
      }
    },
    {
      "cell_type": "code",
      "source": [
        "# Get the list of stocks in each portfolio\n",
        "portfolio_A = portfolio[portfolio['Portfolio'] == 'A']['Stock'].tolist()\n",
        "portfolio_B = portfolio[portfolio['Portfolio'] == 'B']['Stock'].tolist()\n",
        "portfolio_C = portfolio[portfolio['Portfolio'] == 'C']['Stock'].tolist()\n",
        "\n",
        "# Get the number of holdings for each stock in each portfolio\n",
        "holdings_A = portfolio[portfolio['Portfolio'] == 'A']['Holding'].tolist()\n",
        "holdings_B = portfolio[portfolio['Portfolio'] == 'B']['Holding'].tolist()\n",
        "holdings_C = portfolio[portfolio['Portfolio'] == 'C']['Holding'].tolist()\n",
        "\n",
        "# Get the daily prices for the stocks in each portfolio\n",
        "portfolio_A_prices = prices[portfolio_A].values\n",
        "portfolio_B_prices = prices[portfolio_B].values\n",
        "portfolio_C_prices = prices[portfolio_C].values\n",
        "\n",
        "# Calculate the daily returns for each portfolio\n",
        "portfolio_A_returns = np.diff(np.log(portfolio_A_prices), axis=0)\n",
        "portfolio_B_returns = np.diff(np.log(portfolio_B_prices), axis=0)\n",
        "portfolio_C_returns = np.diff(np.log(portfolio_C_prices), axis=0)\n",
        "\n",
        "# Calculate the covariance matrix for each portfolio using an exponentially weighted covariance with lambda = 0.94\n",
        "cov_A = np.cov(portfolio_A_returns, rowvar=False, aweights=np.power(0.94, np.arange(len(portfolio_A_returns)-1, -1, -1)))\n",
        "cov_B = np.cov(portfolio_B_returns, rowvar=False, aweights=np.power(0.94, np.arange(len(portfolio_B_returns)-1, -1, -1)))\n",
        "cov_C = np.cov(portfolio_C_returns, rowvar=False, aweights=np.power(0.94, np.arange(len(portfolio_C_returns)-1, -1, -1)))\n",
        "\n",
        "# Calculate the total covariance matrix using an exponentially weighted covariance with lambda = 0.94\n",
        "total_returns = np.concatenate((portfolio_A_returns, portfolio_B_returns, portfolio_C_returns), axis=1)\n",
        "total_cov = np.cov(total_returns, rowvar=False, aweights=np.power(0.94, np.arange(len(total_returns)-1, -1, -1)))\n",
        "\n",
        "# Calculate the portfolio values for each portfolio\n",
        "portfolio_A_values = portfolio_A_prices[-1,:] * holdings_A\n",
        "portfolio_B_values = portfolio_B_prices[-1,:] * holdings_B\n",
        "portfolio_C_values = portfolio_C_prices[-1,:] * holdings_C\n",
        "\n",
        "# Calculate the total portfolio value\n",
        "total_portfolio_value = np.sum(portfolio_A_values) + np.sum(portfolio_B_values) + np.sum(portfolio_C_values)\n",
        "\n",
        "# Calculate the VaR for each portfolio and the total VaR\n",
        "confidence_level = 0.95\n",
        "z_score = norm.ppf(confidence_level)\n",
        "portfolio_A_var = z_score * np.sqrt(np.dot(portfolio_A_values, np.dot(cov_A, portfolio_A_values)))\n",
        "portfolio_B_var = z_score * np.sqrt(np.dot(portfolio_B_values, np.dot(cov_B, portfolio_B_values)))\n",
        "portfolio_C_var = z_score * np.sqrt(np.dot(portfolio_C_values, np.dot(cov_C, portfolio_C_values)))\n",
        "total_var = z_score * np.sqrt(np.dot(np.concatenate((portfolio_A_values, portfolio_B_values, portfolio_C_values)), np.dot(total_cov, np.concatenate((portfolio_A_values, portfolio_B_values, portfolio_C_values)))))\n",
        "\n",
        "print(f\"Portfolio A VaR: ${portfolio_A_var}\")\n",
        "print(f\"Portfolio B VaR: ${portfolio_B_var}\")\n",
        "print(f\"Portfolio C VaR: ${portfolio_C_var}\")\n",
        "print(f\"Portfolio total VaR: ${total_var}\")"
      ],
      "metadata": {
        "colab": {
          "base_uri": "https://localhost:8080/"
        },
        "id": "6tUy8HIChWRU",
        "outputId": "a91987b7-59cc-49b7-895e-1f64715711b1"
      },
      "execution_count": 246,
      "outputs": [
        {
          "output_type": "stream",
          "name": "stdout",
          "text": [
            "Portfolio A VaR: $5691.545367913773\n",
            "Portfolio B VaR: $4531.820720018284\n",
            "Portfolio C VaR: $3837.7173331134054\n",
            "Portfolio total VaR: $13704.717058155928\n"
          ]
        }
      ]
    },
    {
      "cell_type": "code",
      "source": [
        "# Get the list of stocks in each portfolio\n",
        "portfolio_A = portfolio[portfolio['Portfolio'] == 'A']['Stock'].tolist()\n",
        "portfolio_B = portfolio[portfolio['Portfolio'] == 'B']['Stock'].tolist()\n",
        "portfolio_C = portfolio[portfolio['Portfolio'] == 'C']['Stock'].tolist()\n",
        "\n",
        "# Get the number of holdings for each stock in each portfolio\n",
        "holdings_A = portfolio[portfolio['Portfolio'] == 'A']['Holding'].tolist()\n",
        "holdings_B = portfolio[portfolio['Portfolio'] == 'B']['Holding'].tolist()\n",
        "holdings_C = portfolio[portfolio['Portfolio'] == 'C']['Holding'].tolist()\n",
        "\n",
        "# Get the daily prices for the stocks in each portfolio\n",
        "portfolio_A_prices = prices[portfolio_A].values\n",
        "portfolio_B_prices = prices[portfolio_B].values\n",
        "portfolio_C_prices = prices[portfolio_C].values\n",
        "\n",
        "# Calculate the daily returns for each portfolio\n",
        "portfolio_A_returns = np.diff(np.log(portfolio_A_prices), axis=0)\n",
        "portfolio_B_returns = np.diff(np.log(portfolio_B_prices), axis=0)\n",
        "portfolio_C_returns = np.diff(np.log(portfolio_C_prices), axis=0)\n",
        "\n",
        "# Calculate the covariance matrix for each portfolio using an AR(1) model\n",
        "rho = 0.94  # Autoregression coefficient\n",
        "sigma2_A = np.var(portfolio_A_returns, axis=0, ddof=1)\n",
        "sigma2_B = np.var(portfolio_B_returns, axis=0, ddof=1)\n",
        "sigma2_C = np.var(portfolio_C_returns, axis=0, ddof=1)\n",
        "cov_A = rho * sigma2_A[:, None] * sigma2_A[None, :]\n",
        "cov_B = rho * sigma2_B[:, None] * sigma2_B[None, :]\n",
        "cov_C = rho * sigma2_C[:, None] * sigma2_C[None, :]\n",
        "\n",
        "# Calculate the total covariance matrix using an AR(1) model\n",
        "total_returns = np.concatenate((portfolio_A_returns, portfolio_B_returns, portfolio_C_returns), axis=1)\n",
        "sigma2_total = np.var(total_returns, axis=0, ddof=1)\n",
        "total_cov = rho * sigma2_total[:, None] * sigma2_total[None, :]\n",
        "\n",
        "# Calculate the portfolio values for each portfolio\n",
        "portfolio_A_values = portfolio_A_prices[-1,:] * holdings_A\n",
        "portfolio_B_values = portfolio_B_prices[-1,:] * holdings_B\n",
        "portfolio_C_values = portfolio_C_prices[-1,:] * holdings_C\n",
        "\n",
        "# Calculate the total portfolio value\n",
        "total_portfolio_value = np.sum(portfolio_A_values) + np.sum(portfolio_B_values) + np.sum(portfolio_C_values)\n",
        "\n",
        "# Calculate the VaR for each portfolio and the total VaR\n",
        "confidence_level = 0.95\n",
        "z_score = norm.ppf(confidence_level)\n",
        "portfolio_A_var = z_score * np.sqrt(np.dot(portfolio_A_values, np.dot(cov_A, portfolio_A_values)))\n",
        "portfolio_B_var = z_score * np.sqrt(np.dot(portfolio_B_values, np.dot(cov_B, portfolio_B_values)))\n",
        "portfolio_C_var = z_score * np.sqrt(np.dot(portfolio_C_values, np.dot(cov_C, portfolio_C_values)))\n",
        "total_var = z_score * np.sqrt(np.dot(np.concatenate((portfolio_A_values, portfolio_B_values, portfolio_C_values)), np.dot(total_cov, np.concatenate((portfolio_A_values, portfolio_B_values, portfolio_C_values)))))\n",
        "\n",
        "print(f\"Portfolio A VaR: ${portfolio_A_var}\")\n",
        "print(f\"Portfolio B VaR: ${portfolio_B_var}\")\n",
        "print(f\"Portfolio C VaR: ${portfolio_C_var}\")\n",
        "print(f\"Portfolio total VaR: ${total_var}\")"
      ],
      "metadata": {
        "colab": {
          "base_uri": "https://localhost:8080/"
        },
        "id": "wXrJawygwfhW",
        "outputId": "3cf71c8e-f664-4f63-c5f1-7029d029d76c"
      },
      "execution_count": 247,
      "outputs": [
        {
          "output_type": "stream",
          "name": "stdout",
          "text": [
            "Portfolio A VaR: $259.31091393274534\n",
            "Portfolio B VaR: $220.6713737467063\n",
            "Portfolio C VaR: $172.94982943584452\n",
            "Portfolio total VaR: $652.9321171152961\n"
          ]
        }
      ]
    },
    {
      "cell_type": "code",
      "source": [],
      "metadata": {
        "id": "pgrvKb6_x22L"
      },
      "execution_count": null,
      "outputs": []
    }
  ]
}