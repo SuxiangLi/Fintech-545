{
  "nbformat": 4,
  "nbformat_minor": 0,
  "metadata": {
    "colab": {
      "provenance": []
    },
    "kernelspec": {
      "name": "python3",
      "display_name": "Python 3"
    },
    "language_info": {
      "name": "python"
    }
  },
  "cells": [
    {
      "cell_type": "code",
      "source": [
        "import pandas as pd\n",
        "import numpy as np\n",
        "import matplotlib.pyplot as plt\n",
        "from sklearn.decomposition import PCA\n",
        "from scipy.linalg import svd, eigh\n",
        "from numpy.linalg import inv, LinAlgError"
      ],
      "metadata": {
        "id": "JXd8k2BpUY3r"
      },
      "execution_count": 100,
      "outputs": []
    },
    {
      "cell_type": "markdown",
      "source": [
        "## Problem 1"
      ],
      "metadata": {
        "id": "yr9gGxkqbHrS"
      }
    },
    {
      "cell_type": "code",
      "execution_count": 101,
      "metadata": {
        "id": "djBVs_52T3-a",
        "colab": {
          "base_uri": "https://localhost:8080/",
          "height": 317
        },
        "outputId": "53485502-6b62-4c3c-e191-88b7e21eb1d5"
      },
      "outputs": [
        {
          "output_type": "stream",
          "name": "stdout",
          "text": [
            "Drive already mounted at /content/drive; to attempt to forcibly remount, call drive.mount(\"/content/drive\", force_remount=True).\n"
          ]
        },
        {
          "output_type": "execute_result",
          "data": {
            "text/plain": [
              "   Unnamed: 0       SPY      AAPL      MSFT      AMZN      TSLA     GOOGL  \\\n",
              "0  2021/10/21  0.002608  0.001474  0.010897  0.005842  0.032571  0.000825   \n",
              "1  2021/10/22 -0.001036 -0.005285 -0.005149 -0.028955  0.017539 -0.030443   \n",
              "2  2021/10/25  0.005363 -0.000336 -0.003332 -0.004551  0.126616 -0.000869   \n",
              "3  2021/10/26  0.000900  0.004575  0.006426  0.016775 -0.006274  0.013543   \n",
              "4  2021/10/27 -0.004430 -0.003148  0.042114  0.004864  0.019078  0.049595   \n",
              "\n",
              "       GOOG        FB      NVDA  ...       PNC      MDLZ        MO       ADI  \\\n",
              "0  0.002566  0.003228  0.026648  ... -0.000329 -0.002156 -0.004130  0.010683   \n",
              "1 -0.029104 -0.050515  0.001498  ...  0.015748  0.005984 -0.000207 -0.002181   \n",
              "2  0.001068  0.012569  0.019361  ...  0.002221 -0.002974 -0.005599  0.011770   \n",
              "3  0.006478 -0.039186  0.066952  ... -0.002263  0.008121  0.003337 -0.003545   \n",
              "4  0.048367 -0.011368 -0.010762  ... -0.014625 -0.007233 -0.012679 -0.052368   \n",
              "\n",
              "       GILD       LMT       SYK        GM       TFC       TJX  \n",
              "0  0.001944  0.005416  0.009789  0.012832 -0.004696  0.012841  \n",
              "1  0.003732  0.003913 -0.002568 -0.010957  0.013526 -0.008040  \n",
              "2  0.006395  0.004618 -0.009720 -0.000173  0.002017  0.017145  \n",
              "3  0.000887 -0.118035  0.000476 -0.006752 -0.002013  0.001073  \n",
              "4 -0.014174 -0.002922 -0.017132 -0.054210 -0.022191 -0.011786  \n",
              "\n",
              "[5 rows x 102 columns]"
            ],
            "text/html": [
              "\n",
              "  <div id=\"df-144a051d-aa74-41ad-bf15-cad39b3b1240\">\n",
              "    <div class=\"colab-df-container\">\n",
              "      <div>\n",
              "<style scoped>\n",
              "    .dataframe tbody tr th:only-of-type {\n",
              "        vertical-align: middle;\n",
              "    }\n",
              "\n",
              "    .dataframe tbody tr th {\n",
              "        vertical-align: top;\n",
              "    }\n",
              "\n",
              "    .dataframe thead th {\n",
              "        text-align: right;\n",
              "    }\n",
              "</style>\n",
              "<table border=\"1\" class=\"dataframe\">\n",
              "  <thead>\n",
              "    <tr style=\"text-align: right;\">\n",
              "      <th></th>\n",
              "      <th>Unnamed: 0</th>\n",
              "      <th>SPY</th>\n",
              "      <th>AAPL</th>\n",
              "      <th>MSFT</th>\n",
              "      <th>AMZN</th>\n",
              "      <th>TSLA</th>\n",
              "      <th>GOOGL</th>\n",
              "      <th>GOOG</th>\n",
              "      <th>FB</th>\n",
              "      <th>NVDA</th>\n",
              "      <th>...</th>\n",
              "      <th>PNC</th>\n",
              "      <th>MDLZ</th>\n",
              "      <th>MO</th>\n",
              "      <th>ADI</th>\n",
              "      <th>GILD</th>\n",
              "      <th>LMT</th>\n",
              "      <th>SYK</th>\n",
              "      <th>GM</th>\n",
              "      <th>TFC</th>\n",
              "      <th>TJX</th>\n",
              "    </tr>\n",
              "  </thead>\n",
              "  <tbody>\n",
              "    <tr>\n",
              "      <th>0</th>\n",
              "      <td>2021/10/21</td>\n",
              "      <td>0.002608</td>\n",
              "      <td>0.001474</td>\n",
              "      <td>0.010897</td>\n",
              "      <td>0.005842</td>\n",
              "      <td>0.032571</td>\n",
              "      <td>0.000825</td>\n",
              "      <td>0.002566</td>\n",
              "      <td>0.003228</td>\n",
              "      <td>0.026648</td>\n",
              "      <td>...</td>\n",
              "      <td>-0.000329</td>\n",
              "      <td>-0.002156</td>\n",
              "      <td>-0.004130</td>\n",
              "      <td>0.010683</td>\n",
              "      <td>0.001944</td>\n",
              "      <td>0.005416</td>\n",
              "      <td>0.009789</td>\n",
              "      <td>0.012832</td>\n",
              "      <td>-0.004696</td>\n",
              "      <td>0.012841</td>\n",
              "    </tr>\n",
              "    <tr>\n",
              "      <th>1</th>\n",
              "      <td>2021/10/22</td>\n",
              "      <td>-0.001036</td>\n",
              "      <td>-0.005285</td>\n",
              "      <td>-0.005149</td>\n",
              "      <td>-0.028955</td>\n",
              "      <td>0.017539</td>\n",
              "      <td>-0.030443</td>\n",
              "      <td>-0.029104</td>\n",
              "      <td>-0.050515</td>\n",
              "      <td>0.001498</td>\n",
              "      <td>...</td>\n",
              "      <td>0.015748</td>\n",
              "      <td>0.005984</td>\n",
              "      <td>-0.000207</td>\n",
              "      <td>-0.002181</td>\n",
              "      <td>0.003732</td>\n",
              "      <td>0.003913</td>\n",
              "      <td>-0.002568</td>\n",
              "      <td>-0.010957</td>\n",
              "      <td>0.013526</td>\n",
              "      <td>-0.008040</td>\n",
              "    </tr>\n",
              "    <tr>\n",
              "      <th>2</th>\n",
              "      <td>2021/10/25</td>\n",
              "      <td>0.005363</td>\n",
              "      <td>-0.000336</td>\n",
              "      <td>-0.003332</td>\n",
              "      <td>-0.004551</td>\n",
              "      <td>0.126616</td>\n",
              "      <td>-0.000869</td>\n",
              "      <td>0.001068</td>\n",
              "      <td>0.012569</td>\n",
              "      <td>0.019361</td>\n",
              "      <td>...</td>\n",
              "      <td>0.002221</td>\n",
              "      <td>-0.002974</td>\n",
              "      <td>-0.005599</td>\n",
              "      <td>0.011770</td>\n",
              "      <td>0.006395</td>\n",
              "      <td>0.004618</td>\n",
              "      <td>-0.009720</td>\n",
              "      <td>-0.000173</td>\n",
              "      <td>0.002017</td>\n",
              "      <td>0.017145</td>\n",
              "    </tr>\n",
              "    <tr>\n",
              "      <th>3</th>\n",
              "      <td>2021/10/26</td>\n",
              "      <td>0.000900</td>\n",
              "      <td>0.004575</td>\n",
              "      <td>0.006426</td>\n",
              "      <td>0.016775</td>\n",
              "      <td>-0.006274</td>\n",
              "      <td>0.013543</td>\n",
              "      <td>0.006478</td>\n",
              "      <td>-0.039186</td>\n",
              "      <td>0.066952</td>\n",
              "      <td>...</td>\n",
              "      <td>-0.002263</td>\n",
              "      <td>0.008121</td>\n",
              "      <td>0.003337</td>\n",
              "      <td>-0.003545</td>\n",
              "      <td>0.000887</td>\n",
              "      <td>-0.118035</td>\n",
              "      <td>0.000476</td>\n",
              "      <td>-0.006752</td>\n",
              "      <td>-0.002013</td>\n",
              "      <td>0.001073</td>\n",
              "    </tr>\n",
              "    <tr>\n",
              "      <th>4</th>\n",
              "      <td>2021/10/27</td>\n",
              "      <td>-0.004430</td>\n",
              "      <td>-0.003148</td>\n",
              "      <td>0.042114</td>\n",
              "      <td>0.004864</td>\n",
              "      <td>0.019078</td>\n",
              "      <td>0.049595</td>\n",
              "      <td>0.048367</td>\n",
              "      <td>-0.011368</td>\n",
              "      <td>-0.010762</td>\n",
              "      <td>...</td>\n",
              "      <td>-0.014625</td>\n",
              "      <td>-0.007233</td>\n",
              "      <td>-0.012679</td>\n",
              "      <td>-0.052368</td>\n",
              "      <td>-0.014174</td>\n",
              "      <td>-0.002922</td>\n",
              "      <td>-0.017132</td>\n",
              "      <td>-0.054210</td>\n",
              "      <td>-0.022191</td>\n",
              "      <td>-0.011786</td>\n",
              "    </tr>\n",
              "  </tbody>\n",
              "</table>\n",
              "<p>5 rows × 102 columns</p>\n",
              "</div>\n",
              "      <button class=\"colab-df-convert\" onclick=\"convertToInteractive('df-144a051d-aa74-41ad-bf15-cad39b3b1240')\"\n",
              "              title=\"Convert this dataframe to an interactive table.\"\n",
              "              style=\"display:none;\">\n",
              "        \n",
              "  <svg xmlns=\"http://www.w3.org/2000/svg\" height=\"24px\"viewBox=\"0 0 24 24\"\n",
              "       width=\"24px\">\n",
              "    <path d=\"M0 0h24v24H0V0z\" fill=\"none\"/>\n",
              "    <path d=\"M18.56 5.44l.94 2.06.94-2.06 2.06-.94-2.06-.94-.94-2.06-.94 2.06-2.06.94zm-11 1L8.5 8.5l.94-2.06 2.06-.94-2.06-.94L8.5 2.5l-.94 2.06-2.06.94zm10 10l.94 2.06.94-2.06 2.06-.94-2.06-.94-.94-2.06-.94 2.06-2.06.94z\"/><path d=\"M17.41 7.96l-1.37-1.37c-.4-.4-.92-.59-1.43-.59-.52 0-1.04.2-1.43.59L10.3 9.45l-7.72 7.72c-.78.78-.78 2.05 0 2.83L4 21.41c.39.39.9.59 1.41.59.51 0 1.02-.2 1.41-.59l7.78-7.78 2.81-2.81c.8-.78.8-2.07 0-2.86zM5.41 20L4 18.59l7.72-7.72 1.47 1.35L5.41 20z\"/>\n",
              "  </svg>\n",
              "      </button>\n",
              "      \n",
              "  <style>\n",
              "    .colab-df-container {\n",
              "      display:flex;\n",
              "      flex-wrap:wrap;\n",
              "      gap: 12px;\n",
              "    }\n",
              "\n",
              "    .colab-df-convert {\n",
              "      background-color: #E8F0FE;\n",
              "      border: none;\n",
              "      border-radius: 50%;\n",
              "      cursor: pointer;\n",
              "      display: none;\n",
              "      fill: #1967D2;\n",
              "      height: 32px;\n",
              "      padding: 0 0 0 0;\n",
              "      width: 32px;\n",
              "    }\n",
              "\n",
              "    .colab-df-convert:hover {\n",
              "      background-color: #E2EBFA;\n",
              "      box-shadow: 0px 1px 2px rgba(60, 64, 67, 0.3), 0px 1px 3px 1px rgba(60, 64, 67, 0.15);\n",
              "      fill: #174EA6;\n",
              "    }\n",
              "\n",
              "    [theme=dark] .colab-df-convert {\n",
              "      background-color: #3B4455;\n",
              "      fill: #D2E3FC;\n",
              "    }\n",
              "\n",
              "    [theme=dark] .colab-df-convert:hover {\n",
              "      background-color: #434B5C;\n",
              "      box-shadow: 0px 1px 3px 1px rgba(0, 0, 0, 0.15);\n",
              "      filter: drop-shadow(0px 1px 2px rgba(0, 0, 0, 0.3));\n",
              "      fill: #FFFFFF;\n",
              "    }\n",
              "  </style>\n",
              "\n",
              "      <script>\n",
              "        const buttonEl =\n",
              "          document.querySelector('#df-144a051d-aa74-41ad-bf15-cad39b3b1240 button.colab-df-convert');\n",
              "        buttonEl.style.display =\n",
              "          google.colab.kernel.accessAllowed ? 'block' : 'none';\n",
              "\n",
              "        async function convertToInteractive(key) {\n",
              "          const element = document.querySelector('#df-144a051d-aa74-41ad-bf15-cad39b3b1240');\n",
              "          const dataTable =\n",
              "            await google.colab.kernel.invokeFunction('convertToInteractive',\n",
              "                                                     [key], {});\n",
              "          if (!dataTable) return;\n",
              "\n",
              "          const docLinkHtml = 'Like what you see? Visit the ' +\n",
              "            '<a target=\"_blank\" href=https://colab.research.google.com/notebooks/data_table.ipynb>data table notebook</a>'\n",
              "            + ' to learn more about interactive tables.';\n",
              "          element.innerHTML = '';\n",
              "          dataTable['output_type'] = 'display_data';\n",
              "          await google.colab.output.renderOutput(dataTable, element);\n",
              "          const docLink = document.createElement('div');\n",
              "          docLink.innerHTML = docLinkHtml;\n",
              "          element.appendChild(docLink);\n",
              "        }\n",
              "      </script>\n",
              "    </div>\n",
              "  </div>\n",
              "  "
            ]
          },
          "metadata": {},
          "execution_count": 101
        }
      ],
      "source": [
        "from google.colab import drive\n",
        "drive.mount('/content/drive')\n",
        "df = pd.read_csv('/content/drive/MyDrive/Fintech545_HW2/DailyReturn.csv')\n",
        "df.head()"
      ]
    },
    {
      "cell_type": "code",
      "source": [
        "# Remove the first row and first column\n",
        "data = df.iloc[:, 1:]\n",
        "data.head()"
      ],
      "metadata": {
        "colab": {
          "base_uri": "https://localhost:8080/",
          "height": 300
        },
        "id": "2IWd99PCQ2wA",
        "outputId": "e8312915-7483-4a5f-ed7c-a53f75e0a50d"
      },
      "execution_count": 102,
      "outputs": [
        {
          "output_type": "execute_result",
          "data": {
            "text/plain": [
              "        SPY      AAPL      MSFT      AMZN      TSLA     GOOGL      GOOG  \\\n",
              "0  0.002608  0.001474  0.010897  0.005842  0.032571  0.000825  0.002566   \n",
              "1 -0.001036 -0.005285 -0.005149 -0.028955  0.017539 -0.030443 -0.029104   \n",
              "2  0.005363 -0.000336 -0.003332 -0.004551  0.126616 -0.000869  0.001068   \n",
              "3  0.000900  0.004575  0.006426  0.016775 -0.006274  0.013543  0.006478   \n",
              "4 -0.004430 -0.003148  0.042114  0.004864  0.019078  0.049595  0.048367   \n",
              "\n",
              "         FB      NVDA     BRK-B  ...       PNC      MDLZ        MO       ADI  \\\n",
              "0  0.003228  0.026648 -0.002330  ... -0.000329 -0.002156 -0.004130  0.010683   \n",
              "1 -0.050515  0.001498  0.008437  ...  0.015748  0.005984 -0.000207 -0.002181   \n",
              "2  0.012569  0.019361  0.003527  ...  0.002221 -0.002974 -0.005599  0.011770   \n",
              "3 -0.039186  0.066952  0.002033  ... -0.002263  0.008121  0.003337 -0.003545   \n",
              "4 -0.011368 -0.010762 -0.010555  ... -0.014625 -0.007233 -0.012679 -0.052368   \n",
              "\n",
              "       GILD       LMT       SYK        GM       TFC       TJX  \n",
              "0  0.001944  0.005416  0.009789  0.012832 -0.004696  0.012841  \n",
              "1  0.003732  0.003913 -0.002568 -0.010957  0.013526 -0.008040  \n",
              "2  0.006395  0.004618 -0.009720 -0.000173  0.002017  0.017145  \n",
              "3  0.000887 -0.118035  0.000476 -0.006752 -0.002013  0.001073  \n",
              "4 -0.014174 -0.002922 -0.017132 -0.054210 -0.022191 -0.011786  \n",
              "\n",
              "[5 rows x 101 columns]"
            ],
            "text/html": [
              "\n",
              "  <div id=\"df-f087bb6d-342f-4afd-8f10-a181b8bed2cd\">\n",
              "    <div class=\"colab-df-container\">\n",
              "      <div>\n",
              "<style scoped>\n",
              "    .dataframe tbody tr th:only-of-type {\n",
              "        vertical-align: middle;\n",
              "    }\n",
              "\n",
              "    .dataframe tbody tr th {\n",
              "        vertical-align: top;\n",
              "    }\n",
              "\n",
              "    .dataframe thead th {\n",
              "        text-align: right;\n",
              "    }\n",
              "</style>\n",
              "<table border=\"1\" class=\"dataframe\">\n",
              "  <thead>\n",
              "    <tr style=\"text-align: right;\">\n",
              "      <th></th>\n",
              "      <th>SPY</th>\n",
              "      <th>AAPL</th>\n",
              "      <th>MSFT</th>\n",
              "      <th>AMZN</th>\n",
              "      <th>TSLA</th>\n",
              "      <th>GOOGL</th>\n",
              "      <th>GOOG</th>\n",
              "      <th>FB</th>\n",
              "      <th>NVDA</th>\n",
              "      <th>BRK-B</th>\n",
              "      <th>...</th>\n",
              "      <th>PNC</th>\n",
              "      <th>MDLZ</th>\n",
              "      <th>MO</th>\n",
              "      <th>ADI</th>\n",
              "      <th>GILD</th>\n",
              "      <th>LMT</th>\n",
              "      <th>SYK</th>\n",
              "      <th>GM</th>\n",
              "      <th>TFC</th>\n",
              "      <th>TJX</th>\n",
              "    </tr>\n",
              "  </thead>\n",
              "  <tbody>\n",
              "    <tr>\n",
              "      <th>0</th>\n",
              "      <td>0.002608</td>\n",
              "      <td>0.001474</td>\n",
              "      <td>0.010897</td>\n",
              "      <td>0.005842</td>\n",
              "      <td>0.032571</td>\n",
              "      <td>0.000825</td>\n",
              "      <td>0.002566</td>\n",
              "      <td>0.003228</td>\n",
              "      <td>0.026648</td>\n",
              "      <td>-0.002330</td>\n",
              "      <td>...</td>\n",
              "      <td>-0.000329</td>\n",
              "      <td>-0.002156</td>\n",
              "      <td>-0.004130</td>\n",
              "      <td>0.010683</td>\n",
              "      <td>0.001944</td>\n",
              "      <td>0.005416</td>\n",
              "      <td>0.009789</td>\n",
              "      <td>0.012832</td>\n",
              "      <td>-0.004696</td>\n",
              "      <td>0.012841</td>\n",
              "    </tr>\n",
              "    <tr>\n",
              "      <th>1</th>\n",
              "      <td>-0.001036</td>\n",
              "      <td>-0.005285</td>\n",
              "      <td>-0.005149</td>\n",
              "      <td>-0.028955</td>\n",
              "      <td>0.017539</td>\n",
              "      <td>-0.030443</td>\n",
              "      <td>-0.029104</td>\n",
              "      <td>-0.050515</td>\n",
              "      <td>0.001498</td>\n",
              "      <td>0.008437</td>\n",
              "      <td>...</td>\n",
              "      <td>0.015748</td>\n",
              "      <td>0.005984</td>\n",
              "      <td>-0.000207</td>\n",
              "      <td>-0.002181</td>\n",
              "      <td>0.003732</td>\n",
              "      <td>0.003913</td>\n",
              "      <td>-0.002568</td>\n",
              "      <td>-0.010957</td>\n",
              "      <td>0.013526</td>\n",
              "      <td>-0.008040</td>\n",
              "    </tr>\n",
              "    <tr>\n",
              "      <th>2</th>\n",
              "      <td>0.005363</td>\n",
              "      <td>-0.000336</td>\n",
              "      <td>-0.003332</td>\n",
              "      <td>-0.004551</td>\n",
              "      <td>0.126616</td>\n",
              "      <td>-0.000869</td>\n",
              "      <td>0.001068</td>\n",
              "      <td>0.012569</td>\n",
              "      <td>0.019361</td>\n",
              "      <td>0.003527</td>\n",
              "      <td>...</td>\n",
              "      <td>0.002221</td>\n",
              "      <td>-0.002974</td>\n",
              "      <td>-0.005599</td>\n",
              "      <td>0.011770</td>\n",
              "      <td>0.006395</td>\n",
              "      <td>0.004618</td>\n",
              "      <td>-0.009720</td>\n",
              "      <td>-0.000173</td>\n",
              "      <td>0.002017</td>\n",
              "      <td>0.017145</td>\n",
              "    </tr>\n",
              "    <tr>\n",
              "      <th>3</th>\n",
              "      <td>0.000900</td>\n",
              "      <td>0.004575</td>\n",
              "      <td>0.006426</td>\n",
              "      <td>0.016775</td>\n",
              "      <td>-0.006274</td>\n",
              "      <td>0.013543</td>\n",
              "      <td>0.006478</td>\n",
              "      <td>-0.039186</td>\n",
              "      <td>0.066952</td>\n",
              "      <td>0.002033</td>\n",
              "      <td>...</td>\n",
              "      <td>-0.002263</td>\n",
              "      <td>0.008121</td>\n",
              "      <td>0.003337</td>\n",
              "      <td>-0.003545</td>\n",
              "      <td>0.000887</td>\n",
              "      <td>-0.118035</td>\n",
              "      <td>0.000476</td>\n",
              "      <td>-0.006752</td>\n",
              "      <td>-0.002013</td>\n",
              "      <td>0.001073</td>\n",
              "    </tr>\n",
              "    <tr>\n",
              "      <th>4</th>\n",
              "      <td>-0.004430</td>\n",
              "      <td>-0.003148</td>\n",
              "      <td>0.042114</td>\n",
              "      <td>0.004864</td>\n",
              "      <td>0.019078</td>\n",
              "      <td>0.049595</td>\n",
              "      <td>0.048367</td>\n",
              "      <td>-0.011368</td>\n",
              "      <td>-0.010762</td>\n",
              "      <td>-0.010555</td>\n",
              "      <td>...</td>\n",
              "      <td>-0.014625</td>\n",
              "      <td>-0.007233</td>\n",
              "      <td>-0.012679</td>\n",
              "      <td>-0.052368</td>\n",
              "      <td>-0.014174</td>\n",
              "      <td>-0.002922</td>\n",
              "      <td>-0.017132</td>\n",
              "      <td>-0.054210</td>\n",
              "      <td>-0.022191</td>\n",
              "      <td>-0.011786</td>\n",
              "    </tr>\n",
              "  </tbody>\n",
              "</table>\n",
              "<p>5 rows × 101 columns</p>\n",
              "</div>\n",
              "      <button class=\"colab-df-convert\" onclick=\"convertToInteractive('df-f087bb6d-342f-4afd-8f10-a181b8bed2cd')\"\n",
              "              title=\"Convert this dataframe to an interactive table.\"\n",
              "              style=\"display:none;\">\n",
              "        \n",
              "  <svg xmlns=\"http://www.w3.org/2000/svg\" height=\"24px\"viewBox=\"0 0 24 24\"\n",
              "       width=\"24px\">\n",
              "    <path d=\"M0 0h24v24H0V0z\" fill=\"none\"/>\n",
              "    <path d=\"M18.56 5.44l.94 2.06.94-2.06 2.06-.94-2.06-.94-.94-2.06-.94 2.06-2.06.94zm-11 1L8.5 8.5l.94-2.06 2.06-.94-2.06-.94L8.5 2.5l-.94 2.06-2.06.94zm10 10l.94 2.06.94-2.06 2.06-.94-2.06-.94-.94-2.06-.94 2.06-2.06.94z\"/><path d=\"M17.41 7.96l-1.37-1.37c-.4-.4-.92-.59-1.43-.59-.52 0-1.04.2-1.43.59L10.3 9.45l-7.72 7.72c-.78.78-.78 2.05 0 2.83L4 21.41c.39.39.9.59 1.41.59.51 0 1.02-.2 1.41-.59l7.78-7.78 2.81-2.81c.8-.78.8-2.07 0-2.86zM5.41 20L4 18.59l7.72-7.72 1.47 1.35L5.41 20z\"/>\n",
              "  </svg>\n",
              "      </button>\n",
              "      \n",
              "  <style>\n",
              "    .colab-df-container {\n",
              "      display:flex;\n",
              "      flex-wrap:wrap;\n",
              "      gap: 12px;\n",
              "    }\n",
              "\n",
              "    .colab-df-convert {\n",
              "      background-color: #E8F0FE;\n",
              "      border: none;\n",
              "      border-radius: 50%;\n",
              "      cursor: pointer;\n",
              "      display: none;\n",
              "      fill: #1967D2;\n",
              "      height: 32px;\n",
              "      padding: 0 0 0 0;\n",
              "      width: 32px;\n",
              "    }\n",
              "\n",
              "    .colab-df-convert:hover {\n",
              "      background-color: #E2EBFA;\n",
              "      box-shadow: 0px 1px 2px rgba(60, 64, 67, 0.3), 0px 1px 3px 1px rgba(60, 64, 67, 0.15);\n",
              "      fill: #174EA6;\n",
              "    }\n",
              "\n",
              "    [theme=dark] .colab-df-convert {\n",
              "      background-color: #3B4455;\n",
              "      fill: #D2E3FC;\n",
              "    }\n",
              "\n",
              "    [theme=dark] .colab-df-convert:hover {\n",
              "      background-color: #434B5C;\n",
              "      box-shadow: 0px 1px 3px 1px rgba(0, 0, 0, 0.15);\n",
              "      filter: drop-shadow(0px 1px 2px rgba(0, 0, 0, 0.3));\n",
              "      fill: #FFFFFF;\n",
              "    }\n",
              "  </style>\n",
              "\n",
              "      <script>\n",
              "        const buttonEl =\n",
              "          document.querySelector('#df-f087bb6d-342f-4afd-8f10-a181b8bed2cd button.colab-df-convert');\n",
              "        buttonEl.style.display =\n",
              "          google.colab.kernel.accessAllowed ? 'block' : 'none';\n",
              "\n",
              "        async function convertToInteractive(key) {\n",
              "          const element = document.querySelector('#df-f087bb6d-342f-4afd-8f10-a181b8bed2cd');\n",
              "          const dataTable =\n",
              "            await google.colab.kernel.invokeFunction('convertToInteractive',\n",
              "                                                     [key], {});\n",
              "          if (!dataTable) return;\n",
              "\n",
              "          const docLinkHtml = 'Like what you see? Visit the ' +\n",
              "            '<a target=\"_blank\" href=https://colab.research.google.com/notebooks/data_table.ipynb>data table notebook</a>'\n",
              "            + ' to learn more about interactive tables.';\n",
              "          element.innerHTML = '';\n",
              "          dataTable['output_type'] = 'display_data';\n",
              "          await google.colab.output.renderOutput(dataTable, element);\n",
              "          const docLink = document.createElement('div');\n",
              "          docLink.innerHTML = docLinkHtml;\n",
              "          element.appendChild(docLink);\n",
              "        }\n",
              "      </script>\n",
              "    </div>\n",
              "  </div>\n",
              "  "
            ]
          },
          "metadata": {},
          "execution_count": 102
        }
      ]
    },
    {
      "cell_type": "code",
      "source": [
        "# Define the exponential weighting factor\n",
        "lambda_value = 0.97\n",
        "\n",
        "# Initialize the covariance matrix with zeros\n",
        "ewcov = np.zeros((len(data.columns), len(data.columns)))\n",
        "\n",
        "# Loop through each asset\n",
        "for i in range(len(data.columns)):\n",
        "    for j in range(i, len(data.columns)):\n",
        "        # Calculate the weights\n",
        "        weights = [(1 - lambda_value) * (lambda_value ** (k - 1)) for k in range(1, len(data) + 1)]\n",
        "        weights = np.array(weights) / np.sum(weights)\n",
        "        weights = sorted(weights)\n",
        "        \n",
        "        # Calculate the mean of each asset\n",
        "        mean_i = data.iloc[:, i].mean()\n",
        "        mean_j = data.iloc[:, j].mean()\n",
        "        \n",
        "        # Calculate the weighted covariance\n",
        "        ewcov[i][j] = (weights * ((data.iloc[:, i] - mean_i) * (data.iloc[:, j] - mean_j))).sum()\n",
        "        ewcov[j][i] = ewcov[i][j]\n",
        "\n",
        "print(ewcov)"
      ],
      "metadata": {
        "colab": {
          "base_uri": "https://localhost:8080/"
        },
        "id": "Oud7_XydC5Ra",
        "outputId": "7f4b8981-dcd0-43fd-baad-b718b4ea1b1a"
      },
      "execution_count": 103,
      "outputs": [
        {
          "output_type": "stream",
          "name": "stdout",
          "text": [
            "[[8.41106909e-05 1.06945662e-04 1.21760871e-04 ... 1.25484463e-04\n",
            "  8.11331555e-05 8.61130395e-05]\n",
            " [1.06945662e-04 2.68752303e-04 1.97531665e-04 ... 1.15658764e-04\n",
            "  3.74977522e-05 8.22220854e-05]\n",
            " [1.21760871e-04 1.97531665e-04 2.91157502e-04 ... 8.30278956e-05\n",
            "  3.31844912e-05 7.34713753e-05]\n",
            " ...\n",
            " [1.25484463e-04 1.15658764e-04 8.30278956e-05 ... 7.47889224e-04\n",
            "  2.68371109e-04 2.00639601e-04]\n",
            " [8.11331555e-05 3.74977522e-05 3.31844912e-05 ... 2.68371109e-04\n",
            "  3.08241679e-04 8.21009546e-05]\n",
            " [8.61130395e-05 8.22220854e-05 7.34713753e-05 ... 2.00639601e-04\n",
            "  8.21009546e-05 2.62692778e-04]]\n"
          ]
        }
      ]
    },
    {
      "cell_type": "code",
      "source": [
        "def plot_cumulative_variance(cov_matrix, lambdas):\n",
        "    pca_results = []\n",
        "    for lambda_ in lambdas:\n",
        "        weighted_cov = np.zeros_like(cov_matrix)\n",
        "        for i in range(weighted_cov.shape[0]):\n",
        "            for j in range(weighted_cov.shape[1]):\n",
        "                weighted_cov[i,j] = (1-lambda_) * (lambda_**(i-1)) * cov_matrix[i,j]\n",
        "        eig_vals, eig_vecs = np.linalg.eig(weighted_cov)\n",
        "        total_var = sum(eig_vals)\n",
        "        cum_var = np.cumsum(eig_vals) / total_var\n",
        "        pca_results.append((lambda_, cum_var))\n",
        "\n",
        "    fig, ax = plt.subplots()\n",
        "    for lambda_, cum_var in pca_results:\n",
        "        ax.plot(cum_var, label=\"lambda = {:.2f}\".format(lambda_))\n",
        "    ax.legend()\n",
        "    ax.set_xlabel(\"Number of Principal Components\")\n",
        "    ax.set_ylabel(\"Cumulative Variance Explained\")\n",
        "    plt.show()\n",
        "\n",
        "cov_matrix = ewcov\n",
        "lambdas = [0.1, 0.3, 0.5, 0.7, 0.9, 0.97, 0.99]\n",
        "plot_cumulative_variance(cov_matrix, lambdas)"
      ],
      "metadata": {
        "colab": {
          "base_uri": "https://localhost:8080/",
          "height": 529
        },
        "id": "u3QTBqIUAX4N",
        "outputId": "bc7fd7fc-ec90-4f3b-dc50-b8aacfba72f1"
      },
      "execution_count": 104,
      "outputs": [
        {
          "output_type": "stream",
          "name": "stderr",
          "text": [
            "/usr/local/lib/python3.8/dist-packages/matplotlib/cbook/__init__.py:1317: ComplexWarning: Casting complex values to real discards the imaginary part\n",
            "  return np.asarray(x, float)\n",
            "/usr/local/lib/python3.8/dist-packages/matplotlib/cbook/__init__.py:1317: ComplexWarning: Casting complex values to real discards the imaginary part\n",
            "  return np.asarray(x, float)\n",
            "/usr/local/lib/python3.8/dist-packages/matplotlib/cbook/__init__.py:1317: ComplexWarning: Casting complex values to real discards the imaginary part\n",
            "  return np.asarray(x, float)\n",
            "/usr/local/lib/python3.8/dist-packages/matplotlib/cbook/__init__.py:1317: ComplexWarning: Casting complex values to real discards the imaginary part\n",
            "  return np.asarray(x, float)\n",
            "/usr/local/lib/python3.8/dist-packages/matplotlib/cbook/__init__.py:1317: ComplexWarning: Casting complex values to real discards the imaginary part\n",
            "  return np.asarray(x, float)\n",
            "/usr/local/lib/python3.8/dist-packages/matplotlib/cbook/__init__.py:1317: ComplexWarning: Casting complex values to real discards the imaginary part\n",
            "  return np.asarray(x, float)\n",
            "/usr/local/lib/python3.8/dist-packages/matplotlib/cbook/__init__.py:1317: ComplexWarning: Casting complex values to real discards the imaginary part\n",
            "  return np.asarray(x, float)\n"
          ]
        },
        {
          "output_type": "display_data",
          "data": {
            "text/plain": [
              "<Figure size 432x288 with 1 Axes>"
            ],
            "image/png": "[encoded data removed]"
          },
          "metadata": {
            "needs_background": "light"
          }
        }
      ]
    },
    {
      "cell_type": "markdown",
      "source": [
        "##Problem 2"
      ],
      "metadata": {
        "id": "xXbFppAUhp8y"
      }
    },
    {
      "cell_type": "code",
      "source": [
        "def chol_psd(A):\n",
        "  n = A.shape[1]\n",
        "  root = np.zeros((n,n))\n",
        "  \n",
        "  # loop over columns\n",
        "  for i in range(n):\n",
        "    s = 0.0\n",
        "    if i > 0:\n",
        "      s = root[i][:i].T @ root[i][:i]\n",
        "    \n",
        "    # Diagonal Element\n",
        "    temp = A[i][i] - s\n",
        "    if temp <= 0 and temp >= -1e-8:\n",
        "      temp = 0.0\n",
        "    root[i][i] = np.sqrt(temp)\n",
        "\n",
        "    # check for the 0 eign value. set the column to 0 if we have one\n",
        "    if root[i][i] == 0.0:\n",
        "      root[i][(i+1):n] = 0.0\n",
        "    else:\n",
        "      # update off diagonal rows of the column\n",
        "      ir = 1.0/root[i][i]\n",
        "      for j in np.arange(i+1,n):\n",
        "        s = root[j][:i].T @ root[i][:i]\n",
        "        root[j][i] = (A[j][i] -s) * ir\n",
        "  return root"
      ],
      "metadata": {
        "id": "E6JNk26CBedN"
      },
      "execution_count": 105,
      "outputs": []
    },
    {
      "cell_type": "code",
      "source": [
        "n = 5\n",
        "a = np.ones((n,n)) * 0.9\n",
        "for i in range(n):\n",
        "  a[i,i] = 1.0\n",
        "a[0,1] = 1.0\n",
        "a[1,0] = 1.0\n",
        "\n",
        "chol_psd(a)\n",
        "#nearest_psd(a)"
      ],
      "metadata": {
        "colab": {
          "base_uri": "https://localhost:8080/"
        },
        "id": "f98FxL1y6DAl",
        "outputId": "13b884a5-58b2-40c7-890c-14322a82a757"
      },
      "execution_count": 106,
      "outputs": [
        {
          "output_type": "execute_result",
          "data": {
            "text/plain": [
              "array([[1.        , 0.        , 0.        , 0.        , 0.        ],\n",
              "       [1.        , 0.        , 0.        , 0.        , 0.        ],\n",
              "       [0.9       , 0.        , 0.43588989, 0.        , 0.        ],\n",
              "       [0.9       , 0.        , 0.20647416, 0.38388595, 0.        ],\n",
              "       [0.9       , 0.        , 0.20647416, 0.12339191, 0.36351459]])"
            ]
          },
          "metadata": {},
          "execution_count": 106
        }
      ]
    },
    {
      "cell_type": "code",
      "source": [
        "#near_psd\n",
        "def near_psd(a, epsilon=0.0):\n",
        "  n = a.shape[0]\n",
        "\n",
        "\n",
        "  invSD = None\n",
        "  out = a.copy()\n",
        "\n",
        "  #calculate the correlation matrix if we got a covariance\n",
        "  if (np.count_nonzero(np.diag(out) == 1.0) != n):\n",
        "      invSD = np.diag(1.0 / np.sqrt(np.diag(out)))\n",
        "      out = np.dot(np.dot(invSD, out), invSD)\n",
        "\n",
        "  #SVD, update the eigen value and scale\n",
        "  vals, vecs = np.linalg.eigh(out)\n",
        "  vals = np.maximum(vals, epsilon)\n",
        "  T = 1.0 / (np.dot(np.dot(vecs, np.diag(vals)), vecs.T))\n",
        "  T = np.diag(np.sqrt(np.diag(T)))\n",
        "  l = np.diag(np.sqrt(vals))\n",
        "  B = np.dot(np.dot(T, vecs), l)\n",
        "  out = np.dot(B, B.T)\n",
        "\n",
        "  #Add back the variance\n",
        "  if invSD is not None:\n",
        "      invSD = np.diag(1.0 / np.diag(invSD))\n",
        "      out = np.dot(np.dot(invSD, out), invSD)\n",
        "  return out"
      ],
      "metadata": {
        "id": "KkHppMHu--ft"
      },
      "execution_count": 107,
      "outputs": []
    },
    {
      "cell_type": "code",
      "source": [
        "#near_psd test\n",
        "n = 500\n",
        "a = np.ones((n,n)) * 0.9\n",
        "for i in range(n):\n",
        "  a[i,i] = 1.0\n",
        "a[0,1] = 0.7357\n",
        "a[1,0] = 0.7357\n",
        "\n",
        "near_psd(a)"
      ],
      "metadata": {
        "colab": {
          "base_uri": "https://localhost:8080/"
        },
        "outputId": "fef615d3-cd6a-4b2e-8fe5-22a1020027ff",
        "id": "j5HFzD75up1Q"
      },
      "execution_count": 108,
      "outputs": [
        {
          "output_type": "execute_result",
          "data": {
            "text/plain": [
              "array([[1.        , 0.74381947, 0.88594237, ..., 0.88594237, 0.88594237,\n",
              "        0.88594237],\n",
              "       [0.74381947, 1.        , 0.88594237, ..., 0.88594237, 0.88594237,\n",
              "        0.88594237],\n",
              "       [0.88594237, 0.88594237, 1.        , ..., 0.90000005, 0.90000005,\n",
              "        0.90000005],\n",
              "       ...,\n",
              "       [0.88594237, 0.88594237, 0.90000005, ..., 1.        , 0.90000005,\n",
              "        0.90000005],\n",
              "       [0.88594237, 0.88594237, 0.90000005, ..., 0.90000005, 1.        ,\n",
              "        0.90000005],\n",
              "       [0.88594237, 0.88594237, 0.90000005, ..., 0.90000005, 0.90000005,\n",
              "        1.        ]])"
            ]
          },
          "metadata": {},
          "execution_count": 108
        }
      ]
    },
    {
      "cell_type": "code",
      "source": [
        "#Higham\n",
        "def nearest_psd_correlation(A, num_iter):\n",
        "  while num_iter > 0:\n",
        "    eigvals, eigvecs = eigh(A)\n",
        "    neg = 0\n",
        "    for e in eigvals:\n",
        "      if e < 0:\n",
        "        #n = A.shape[0]\n",
        "        D = np.diag(np.maximum(eigvals, 0))\n",
        "        V = eigvecs @ np.sqrt(D)\n",
        "        A = V @ V.T\n",
        "        neg+=1\n",
        "        break\n",
        "    if neg == 0:\n",
        "      break\n",
        "    num_iter -= 1\n",
        "\n",
        "  return (A + A.T) / 2"
      ],
      "metadata": {
        "id": "GF_kNtjFoY3o"
      },
      "execution_count": 109,
      "outputs": []
    },
    {
      "cell_type": "code",
      "source": [
        "#Higham test\n",
        "nearest_psd_correlation(a, 10)"
      ],
      "metadata": {
        "colab": {
          "base_uri": "https://localhost:8080/"
        },
        "id": "J_gigxJYnDDp",
        "outputId": "78968766-bfc3-4c37-a5eb-b8627cb0ac45"
      },
      "execution_count": 110,
      "outputs": [
        {
          "output_type": "execute_result",
          "data": {
            "text/plain": [
              "array([[1.03169433, 0.76739433, 0.89987276, ..., 0.89987276, 0.89987276,\n",
              "        0.89987276],\n",
              "       [0.76739433, 1.03169433, 0.89987276, ..., 0.89987276, 0.89987276,\n",
              "        0.89987276],\n",
              "       [0.89987276, 0.89987276, 1.00000051, ..., 0.90000051, 0.90000051,\n",
              "        0.90000051],\n",
              "       ...,\n",
              "       [0.89987276, 0.89987276, 0.90000051, ..., 1.00000051, 0.90000051,\n",
              "        0.90000051],\n",
              "       [0.89987276, 0.89987276, 0.90000051, ..., 0.90000051, 1.00000051,\n",
              "        0.90000051],\n",
              "       [0.89987276, 0.89987276, 0.90000051, ..., 0.90000051, 0.90000051,\n",
              "        1.00000051]])"
            ]
          },
          "metadata": {},
          "execution_count": 110
        }
      ]
    },
    {
      "cell_type": "code",
      "source": [
        "#Confirm PSD\n",
        "chol_psd(near_psd(a))"
      ],
      "metadata": {
        "colab": {
          "base_uri": "https://localhost:8080/"
        },
        "id": "xUA8AKAruQwV",
        "outputId": "7134e54c-836c-48ac-e523-7cb2f4af5ca1"
      },
      "execution_count": 111,
      "outputs": [
        {
          "output_type": "execute_result",
          "data": {
            "text/plain": [
              "array([[ 1.00000000e+00,  0.00000000e+00,  0.00000000e+00, ...,\n",
              "         0.00000000e+00,  0.00000000e+00,  0.00000000e+00],\n",
              "       [ 7.43819469e-01,  6.68380578e-01,  0.00000000e+00, ...,\n",
              "         0.00000000e+00,  0.00000000e+00,  0.00000000e+00],\n",
              "       [ 8.85942373e-01,  3.39568795e-01,  3.15910028e-01, ...,\n",
              "         0.00000000e+00,  0.00000000e+00,  0.00000000e+00],\n",
              "       ...,\n",
              "       [ 8.85942373e-01,  3.39568795e-01, -6.35633859e-04, ...,\n",
              "         2.58198824e-01,  0.00000000e+00,  0.00000000e+00],\n",
              "       [ 8.85942373e-01,  3.39568795e-01, -6.35633859e-04, ...,\n",
              "        -1.29099412e-01,  2.23606741e-01,  0.00000000e+00],\n",
              "       [ 8.85942373e-01,  3.39568795e-01, -6.35633859e-04, ...,\n",
              "        -1.29099412e-01, -2.23606741e-01,  0.00000000e+00]])"
            ]
          },
          "metadata": {},
          "execution_count": 111
        }
      ]
    },
    {
      "cell_type": "code",
      "source": [
        "chol_psd(nearest_psd_correlation(a, 10))"
      ],
      "metadata": {
        "colab": {
          "base_uri": "https://localhost:8080/"
        },
        "id": "7JiTtVR6x1--",
        "outputId": "b347818c-9213-4448-e608-615c299c225b"
      },
      "execution_count": 112,
      "outputs": [
        {
          "output_type": "execute_result",
          "data": {
            "text/plain": [
              "array([[ 1.01572355e+00,  0.00000000e+00,  0.00000000e+00, ...,\n",
              "         0.00000000e+00,  0.00000000e+00,  0.00000000e+00],\n",
              "       [ 7.55514950e-01,  6.78889892e-01,  0.00000000e+00, ...,\n",
              "         0.00000000e+00,  0.00000000e+00,  0.00000000e+00],\n",
              "       [ 8.85942599e-01,  3.39568881e-01,  3.15910109e-01, ...,\n",
              "         0.00000000e+00,  0.00000000e+00,  0.00000000e+00],\n",
              "       ...,\n",
              "       [ 8.85942599e-01,  3.39568881e-01, -6.35634022e-04, ...,\n",
              "         2.58198890e-01,  0.00000000e+00,  0.00000000e+00],\n",
              "       [ 8.85942599e-01,  3.39568881e-01, -6.35634022e-04, ...,\n",
              "        -1.29099445e-01,  2.23606798e-01,  0.00000000e+00],\n",
              "       [ 8.85942599e-01,  3.39568881e-01, -6.35634022e-04, ...,\n",
              "        -1.29099445e-01, -2.23606798e-01,  1.99764502e-06]])"
            ]
          },
          "metadata": {},
          "execution_count": 112
        }
      ]
    },
    {
      "cell_type": "code",
      "source": [
        "#Frobenius norm\n",
        "def Frobenius(A):\n",
        "  return np.linalg.norm(A, ord='fro')\n",
        "\n",
        "Frobenius(a)"
      ],
      "metadata": {
        "colab": {
          "base_uri": "https://localhost:8080/"
        },
        "id": "EyMNuXr0x-wt",
        "outputId": "7115d218-b819-488b-9de4-ce572f7c39f6"
      },
      "execution_count": 113,
      "outputs": [
        {
          "output_type": "execute_result",
          "data": {
            "text/plain": [
              "450.10494610591377"
            ]
          },
          "metadata": {},
          "execution_count": 113
        }
      ]
    },
    {
      "cell_type": "code",
      "source": [
        "Frobenius(near_psd(a))"
      ],
      "metadata": {
        "colab": {
          "base_uri": "https://localhost:8080/"
        },
        "id": "Oc45ad00Gm7M",
        "outputId": "e93e1ec8-c302-4793-8061-1b8a876f809d"
      },
      "execution_count": 114,
      "outputs": [
        {
          "output_type": "execute_result",
          "data": {
            "text/plain": [
              "450.0494394140364"
            ]
          },
          "metadata": {},
          "execution_count": 114
        }
      ]
    },
    {
      "cell_type": "code",
      "source": [
        "Frobenius(nearest_psd_correlation(a, 10))\n",
        "#Even when n is large, highman is still more accurate"
      ],
      "metadata": {
        "colab": {
          "base_uri": "https://localhost:8080/"
        },
        "id": "i1GJgkUa3gD1",
        "outputId": "5cad3bcf-366d-486b-e5cc-65c5ee18c973"
      },
      "execution_count": 115,
      "outputs": [
        {
          "output_type": "execute_result",
          "data": {
            "text/plain": [
              "450.10494160642054"
            ]
          },
          "metadata": {},
          "execution_count": 115
        }
      ]
    },
    {
      "cell_type": "code",
      "source": [
        "#large N\n",
        "n = 5000\n",
        "a = np.ones((n,n)) * 0.9\n",
        "for i in range(n):\n",
        "  a[i,i] = 1.0\n",
        "a[0,1] = 0.7357\n",
        "a[1,0] = 0.7357"
      ],
      "metadata": {
        "id": "ziIlujVACBAr"
      },
      "execution_count": 116,
      "outputs": []
    },
    {
      "cell_type": "code",
      "source": [
        "#run time\n",
        "import time\n",
        "start = time.time()\n",
        "near = near_psd(a)\n",
        "node1 = time.time()\n",
        "hig = nearest_psd_correlation(a, 10)\n",
        "node2 = time.time()\n",
        "\n",
        "print(\"Run time of near_psd is:\", node1-start)\n",
        "print(\"Run time of highman is:\", node2-node1)\n",
        "print(\"Their difference is:\", node2-2*node1+start)"
      ],
      "metadata": {
        "colab": {
          "base_uri": "https://localhost:8080/"
        },
        "id": "6LWw_at9CKZv",
        "outputId": "85b0de93-29c8-411a-8550-30a02813b335"
      },
      "execution_count": 117,
      "outputs": [
        {
          "output_type": "stream",
          "name": "stdout",
          "text": [
            "Run time of near_psd is: 91.81546473503113\n",
            "Run time of highman is: 94.02158880233765\n",
            "Their difference is: 2.2061240673065186\n"
          ]
        }
      ]
    },
    {
      "cell_type": "markdown",
      "source": [
        "## Problem 3"
      ],
      "metadata": {
        "id": "192U9I613pPq"
      }
    },
    {
      "cell_type": "code",
      "source": [
        "def exponential_weighted_variance(data, lambd):\n",
        "    n_rows, n_cols = data.shape\n",
        "    weight = np.zeros(n_rows)\n",
        "    for i in range(n_rows):\n",
        "        weight[i] = (1 - lambd) * (lambd ** (n_rows - i - 1))\n",
        "\n",
        "    variance_vector = np.zeros((n_cols,1))\n",
        "    for j in range(n_cols):\n",
        "      mean = np.mean(data.iloc[:, j])\n",
        "      variance = 0\n",
        "      for i in range(n_rows):\n",
        "        deviation = data.iloc[i,j] - mean\n",
        "        variance += (weight[i] * deviation**2)\n",
        "      variance_vector[j] = variance\n",
        "    return variance_vector"
      ],
      "metadata": {
        "id": "TlnrZFFoUpNL"
      },
      "execution_count": 118,
      "outputs": []
    },
    {
      "cell_type": "code",
      "source": [
        "def exponential_weighted_correlation(cov, var):\n",
        "  std_vector = np.sqrt(var)\n",
        "\n",
        "  corr = cov / np.outer(std_vector, std_vector)\n",
        "  return corr"
      ],
      "metadata": {
        "id": "qISu0I94OvSe"
      },
      "execution_count": 119,
      "outputs": []
    },
    {
      "cell_type": "code",
      "source": [
        "def generate_covariance_matrix(correlation_matrix, variance_vector):\n",
        "    return np.array(np.outer(np.sqrt(variance_vector), np.sqrt(variance_vector)) * correlation_matrix)"
      ],
      "metadata": {
        "id": "Q7o5ik9NgVaf"
      },
      "execution_count": 120,
      "outputs": []
    },
    {
      "cell_type": "code",
      "source": [
        "#1\n",
        "lambda_value = 0.0\n",
        "var = exponential_weighted_variance(data, lambda_value)\n",
        "cor = data.corr()"
      ],
      "metadata": {
        "id": "nMrUpaJzPXp3"
      },
      "execution_count": 121,
      "outputs": []
    },
    {
      "cell_type": "code",
      "source": [
        "cov1 = generate_covariance_matrix(cor, var)"
      ],
      "metadata": {
        "id": "45W6S2WCPlax"
      },
      "execution_count": 122,
      "outputs": []
    },
    {
      "cell_type": "code",
      "source": [
        "#2\n",
        "lambda_value = 0.97\n",
        "var_weighted = exponential_weighted_variance(data, lambda_value)\n",
        "cor = data.corr()"
      ],
      "metadata": {
        "id": "xp8KJIhEPl7T"
      },
      "execution_count": 123,
      "outputs": []
    },
    {
      "cell_type": "code",
      "source": [
        "cov2 = generate_covariance_matrix(cor, var_weighted)"
      ],
      "metadata": {
        "id": "LFA-xx4VRTFW"
      },
      "execution_count": 124,
      "outputs": []
    },
    {
      "cell_type": "code",
      "source": [
        "#3\n",
        "lambda_value = 0.0\n",
        "var = np.var(data, axis=0)\n",
        "cor_weighted = exponential_weighted_correlation(ewcov, var)"
      ],
      "metadata": {
        "id": "7Fhu5ILhPnkS"
      },
      "execution_count": 125,
      "outputs": []
    },
    {
      "cell_type": "code",
      "source": [
        "cov3 = generate_covariance_matrix(cor, var)"
      ],
      "metadata": {
        "id": "6NmROo8URR0h"
      },
      "execution_count": 126,
      "outputs": []
    },
    {
      "cell_type": "code",
      "source": [
        "#4\n",
        "lambda_value = 0.97\n",
        "var_weighted = exponential_weighted_variance(data, lambda_value)\n",
        "cor_weighted = exponential_weighted_correlation(ewcov, var_weighted)"
      ],
      "metadata": {
        "id": "djjgBkcUiV8r"
      },
      "execution_count": 127,
      "outputs": []
    },
    {
      "cell_type": "code",
      "source": [
        "cov4 = generate_covariance_matrix(cor_weighted, var_weighted)"
      ],
      "metadata": {
        "id": "syX9XS7WRT31"
      },
      "execution_count": 128,
      "outputs": []
    },
    {
      "cell_type": "code",
      "source": [
        "def direct_simulation(cov, num):\n",
        "  result = chol_psd(cov) @ np.random.standard_normal(size=(len(cov), num))\n",
        "  return result\n",
        "\n",
        "num = 25000"
      ],
      "metadata": {
        "id": "OQeuzk8-S9x-"
      },
      "execution_count": 129,
      "outputs": []
    },
    {
      "cell_type": "code",
      "source": [
        "Frobenius(np.cov(data, rowvar=False))"
      ],
      "metadata": {
        "colab": {
          "base_uri": "https://localhost:8080/"
        },
        "id": "IhlQZw4OhYeP",
        "outputId": "858b83f2-1dac-4ed2-9d08-95c9e8cd760e"
      },
      "execution_count": 130,
      "outputs": [
        {
          "output_type": "execute_result",
          "data": {
            "text/plain": [
              "0.011968397602104986"
            ]
          },
          "metadata": {},
          "execution_count": 130
        }
      ]
    },
    {
      "cell_type": "code",
      "source": [
        "d_cov1 = np.cov(direct_simulation(cov1, num))\n",
        "d_cov2 = np.cov(direct_simulation(cov2, num))\n",
        "d_cov3 = np.cov(direct_simulation(cov3, num))\n",
        "d_cov4 = np.cov(direct_simulation(cov4, num))"
      ],
      "metadata": {
        "id": "S1IPwlLUVn4H"
      },
      "execution_count": 131,
      "outputs": []
    },
    {
      "cell_type": "code",
      "source": [
        "print(Frobenius(d_cov1))\n",
        "print(Frobenius(d_cov2))\n",
        "print(Frobenius(d_cov3))\n",
        "print(Frobenius(d_cov4))"
      ],
      "metadata": {
        "colab": {
          "base_uri": "https://localhost:8080/"
        },
        "id": "KM0L__RZWE9w",
        "outputId": "afa7f156-9886-40c1-8539-681e5bced0f6"
      },
      "execution_count": 132,
      "outputs": [
        {
          "output_type": "stream",
          "name": "stdout",
          "text": [
            "0.01357834736756668\n",
            "0.010063694016827716\n",
            "0.011788343591917282\n",
            "0.012796420482215224\n"
          ]
        }
      ]
    },
    {
      "cell_type": "code",
      "source": [
        "def simulate_pca(a, nsim, perc):\n",
        "    # Eigenvalue decomposition\n",
        "    vals, vecs = np.linalg.eig(a)\n",
        "\n",
        "    # flip the eigenvalues and the vectors\n",
        "    flip = np.argsort(vals)[::-1]\n",
        "    vals = vals[flip]\n",
        "    vecs = vecs[:, flip]\n",
        "\n",
        "    tv = np.sum(vals)\n",
        "    start = 0\n",
        "    while (np.abs(np.sum(vals[:start])/tv) <perc):\n",
        "      start+=1\n",
        "    vals = vals[:start]\n",
        "    vecs = vecs[:, :start]\n",
        "    print(\"Simulating with\", start, \"PC Factors: {:.2f}\".format(np.abs(sum(vals)/tv*100)), \"% total variance explained\")\n",
        "    B = np.matmul(vecs, np.diag(np.sqrt(vals)))\n",
        "    m = B.shape[1]\n",
        "    r = np.random.randn(m,nsim)\n",
        "    return np.matmul(B, r)"
      ],
      "metadata": {
        "id": "5T76RvGOYaKn"
      },
      "execution_count": 133,
      "outputs": []
    },
    {
      "cell_type": "code",
      "source": [
        "pca100_cov1 = np.cov(simulate_pca(cov1, num, 1))"
      ],
      "metadata": {
        "colab": {
          "base_uri": "https://localhost:8080/"
        },
        "id": "UZhAGCF5lU0D",
        "outputId": "7ee635b9-579d-46f4-aba7-12fb3012ff2e"
      },
      "execution_count": 134,
      "outputs": [
        {
          "output_type": "stream",
          "name": "stdout",
          "text": [
            "Simulating with 59 PC Factors: 100.00 % total variance explained\n"
          ]
        }
      ]
    },
    {
      "cell_type": "code",
      "source": [
        "pca100_cov2 = np.cov(simulate_pca(cov2, num, 1))"
      ],
      "metadata": {
        "id": "iqFJ3usclVZr",
        "colab": {
          "base_uri": "https://localhost:8080/"
        },
        "outputId": "98cc63f9-807c-453d-d040-543aa2820fce"
      },
      "execution_count": 135,
      "outputs": [
        {
          "output_type": "stream",
          "name": "stdout",
          "text": [
            "Simulating with 72 PC Factors: 100.00 % total variance explained\n"
          ]
        }
      ]
    },
    {
      "cell_type": "code",
      "source": [
        "pca100_cov3 = np.cov(simulate_pca(cov3, num, 1))"
      ],
      "metadata": {
        "id": "728FpbqelV3W",
        "colab": {
          "base_uri": "https://localhost:8080/"
        },
        "outputId": "b125bf56-dbbc-4432-9c08-35015727fda0"
      },
      "execution_count": 136,
      "outputs": [
        {
          "output_type": "stream",
          "name": "stdout",
          "text": [
            "Simulating with 96 PC Factors: 100.00 % total variance explained\n"
          ]
        }
      ]
    },
    {
      "cell_type": "code",
      "source": [
        "pca100_cov4 = np.cov(simulate_pca(cov4, num, 1))"
      ],
      "metadata": {
        "id": "blQk4nszlWMd",
        "colab": {
          "base_uri": "https://localhost:8080/"
        },
        "outputId": "1706d41d-585a-4223-9fb8-51ab22404c17"
      },
      "execution_count": 137,
      "outputs": [
        {
          "output_type": "stream",
          "name": "stdout",
          "text": [
            "Simulating with 59 PC Factors: 100.00 % total variance explained\n"
          ]
        }
      ]
    },
    {
      "cell_type": "code",
      "source": [
        "print(Frobenius(pca100_cov1))\n",
        "print(Frobenius(pca100_cov2))\n",
        "print(Frobenius(pca100_cov3))\n",
        "print(Frobenius(pca100_cov4))"
      ],
      "metadata": {
        "colab": {
          "base_uri": "https://localhost:8080/"
        },
        "id": "qL9Ys0trYkC9",
        "outputId": "a6b638df-a7de-4eae-db04-2b4f6030e2a5"
      },
      "execution_count": 138,
      "outputs": [
        {
          "output_type": "stream",
          "name": "stdout",
          "text": [
            "0.013461787317309947\n",
            "0.010071476963148546\n",
            "0.01183368497059213\n",
            "0.012803174926308173\n"
          ]
        }
      ]
    },
    {
      "cell_type": "code",
      "source": [
        "pca75_cov1 = np.cov(simulate_pca(cov1, num, 0.75))"
      ],
      "metadata": {
        "colab": {
          "base_uri": "https://localhost:8080/"
        },
        "outputId": "05f68044-ed8a-4de4-fcfc-71ee30400a4a",
        "id": "cHerMXUIms1z"
      },
      "execution_count": 139,
      "outputs": [
        {
          "output_type": "stream",
          "name": "stdout",
          "text": [
            "Simulating with 7 PC Factors: 77.22 % total variance explained\n"
          ]
        }
      ]
    },
    {
      "cell_type": "code",
      "source": [
        "pca75_cov2 = np.cov(simulate_pca(cov2, num, 0.75))"
      ],
      "metadata": {
        "colab": {
          "base_uri": "https://localhost:8080/"
        },
        "outputId": "97708d40-7027-44e1-e3ee-d9f7332b89f7",
        "id": "4JYdpLXxmvnH"
      },
      "execution_count": 140,
      "outputs": [
        {
          "output_type": "stream",
          "name": "stdout",
          "text": [
            "Simulating with 12 PC Factors: 76.57 % total variance explained\n"
          ]
        }
      ]
    },
    {
      "cell_type": "code",
      "source": [
        "pca75_cov3 = np.cov(simulate_pca(cov3, num, 0.75))"
      ],
      "metadata": {
        "id": "-hPZMeuamxmw",
        "colab": {
          "base_uri": "https://localhost:8080/"
        },
        "outputId": "144ca13b-0a07-488c-bb30-28be3f806ed7"
      },
      "execution_count": 141,
      "outputs": [
        {
          "output_type": "stream",
          "name": "stdout",
          "text": [
            "Simulating with 12 PC Factors: 76.12 % total variance explained\n"
          ]
        }
      ]
    },
    {
      "cell_type": "code",
      "source": [
        "pca75_cov4 = np.cov(simulate_pca(cov4, num, 0.75))"
      ],
      "metadata": {
        "id": "XuBb6Molm1za",
        "colab": {
          "base_uri": "https://localhost:8080/"
        },
        "outputId": "6e598949-d781-4c4d-f71e-8101f6817503"
      },
      "execution_count": 142,
      "outputs": [
        {
          "output_type": "stream",
          "name": "stdout",
          "text": [
            "Simulating with 10 PC Factors: 76.76 % total variance explained\n"
          ]
        }
      ]
    },
    {
      "cell_type": "code",
      "source": [
        "print(Frobenius(pca75_cov1))\n",
        "print(Frobenius(pca75_cov2))\n",
        "print(Frobenius(pca75_cov3))\n",
        "print(Frobenius(pca75_cov4))"
      ],
      "metadata": {
        "colab": {
          "base_uri": "https://localhost:8080/"
        },
        "outputId": "9d39e4d2-b2da-4ecc-b484-a24a8ae24acd",
        "id": "LwPNoEPIm8Gk"
      },
      "execution_count": 143,
      "outputs": [
        {
          "output_type": "stream",
          "name": "stdout",
          "text": [
            "0.01358175132489859\n",
            "0.009913226482298901\n",
            "0.011545249770079943\n",
            "0.01245550914926372\n"
          ]
        }
      ]
    },
    {
      "cell_type": "code",
      "source": [
        "pca50_cov1 = np.cov(simulate_pca(cov1, num, 0.50))"
      ],
      "metadata": {
        "colab": {
          "base_uri": "https://localhost:8080/"
        },
        "outputId": "c515b9d7-9bc3-42f8-81ae-98af4b9b7333",
        "id": "DhmG4Owzmtab"
      },
      "execution_count": 144,
      "outputs": [
        {
          "output_type": "stream",
          "name": "stdout",
          "text": [
            "Simulating with 2 PC Factors: 54.77 % total variance explained\n"
          ]
        }
      ]
    },
    {
      "cell_type": "code",
      "source": [
        "pca50_cov2 = np.cov(simulate_pca(cov2, num, 0.50))"
      ],
      "metadata": {
        "colab": {
          "base_uri": "https://localhost:8080/"
        },
        "outputId": "e1b6b740-c9e2-4911-bdb9-3506d086cfe2",
        "id": "EK661-FsmwCr"
      },
      "execution_count": 145,
      "outputs": [
        {
          "output_type": "stream",
          "name": "stdout",
          "text": [
            "Simulating with 4 PC Factors: 54.55 % total variance explained\n"
          ]
        }
      ]
    },
    {
      "cell_type": "code",
      "source": [
        "pca50_cov3 = np.cov(simulate_pca(cov3, num, 0.50))"
      ],
      "metadata": {
        "id": "6fpOPcHEmyOd",
        "colab": {
          "base_uri": "https://localhost:8080/"
        },
        "outputId": "42ada36b-1b30-4074-a702-b1e6316b8f4d"
      },
      "execution_count": 146,
      "outputs": [
        {
          "output_type": "stream",
          "name": "stdout",
          "text": [
            "Simulating with 4 PC Factors: 53.63 % total variance explained\n"
          ]
        }
      ]
    },
    {
      "cell_type": "code",
      "source": [
        "pca50_cov4 = np.cov(simulate_pca(cov4, num, 0.50))"
      ],
      "metadata": {
        "id": "zl16V4wRm2WT",
        "colab": {
          "base_uri": "https://localhost:8080/"
        },
        "outputId": "6a9f9295-dff7-4aa1-a3ac-0ad916290e4b"
      },
      "execution_count": 147,
      "outputs": [
        {
          "output_type": "stream",
          "name": "stdout",
          "text": [
            "Simulating with 3 PC Factors: 54.04 % total variance explained\n"
          ]
        }
      ]
    },
    {
      "cell_type": "code",
      "source": [
        "print(Frobenius(pca50_cov1))\n",
        "print(Frobenius(pca50_cov2))\n",
        "print(Frobenius(pca50_cov3))\n",
        "print(Frobenius(pca50_cov4))"
      ],
      "metadata": {
        "colab": {
          "base_uri": "https://localhost:8080/"
        },
        "outputId": "918d00fc-d355-49c0-a903-7acd6d7efec6",
        "id": "u1U3lwZSm8kI"
      },
      "execution_count": 148,
      "outputs": [
        {
          "output_type": "stream",
          "name": "stdout",
          "text": [
            "0.012946793685218238\n",
            "0.009659137643099057\n",
            "0.01138038064107553\n",
            "0.012285894366920498\n"
          ]
        }
      ]
    }
  ]
}