{
 "cells": [
  {
   "cell_type": "code",
   "execution_count": 216,
   "metadata": {},
   "outputs": [],
   "source": [
    "import sys\n",
    "sys.path.append('D:/Study/2023 spring/FINTECH545 Quant Risk/')\n",
    "from risk_lib import bsm, covariance_estimation_techniques, non_psd_fixes, riskStats, simulation_methods, tseries, covar"
   ]
  },
  {
   "attachments": {},
   "cell_type": "markdown",
   "metadata": {},
   "source": [
    "## Problem 1"
   ]
  },
  {
   "attachments": {},
   "cell_type": "markdown",
   "metadata": {},
   "source": [
    "1. Using the data in “problem1.csv”\n",
    "a. Calculate Log Returns (2pts)\n",
    "b. Calculate Pairwise Covariance (4pt)\n",
    "c. Is this Matrix PSD? If not, fix it with the “near_psd” method (2pt)\n",
    "d. Discuss when you might see data like this in the real world. (2pt)"
   ]
  },
  {
   "cell_type": "code",
   "execution_count": 217,
   "metadata": {},
   "outputs": [
    {
     "data": {
      "text/html": [
       "<div>\n",
       "<style scoped>\n",
       "    .dataframe tbody tr th:only-of-type {\n",
       "        vertical-align: middle;\n",
       "    }\n",
       "\n",
       "    .dataframe tbody tr th {\n",
       "        vertical-align: top;\n",
       "    }\n",
       "\n",
       "    .dataframe thead th {\n",
       "        text-align: right;\n",
       "    }\n",
       "</style>\n",
       "<table border=\"1\" class=\"dataframe\">\n",
       "  <thead>\n",
       "    <tr style=\"text-align: right;\">\n",
       "      <th></th>\n",
       "      <th>Price1</th>\n",
       "      <th>Price2</th>\n",
       "      <th>Price3</th>\n",
       "      <th>Date</th>\n",
       "    </tr>\n",
       "  </thead>\n",
       "  <tbody>\n",
       "    <tr>\n",
       "      <th>0</th>\n",
       "      <td>94.183334</td>\n",
       "      <td>100.328416</td>\n",
       "      <td>105.194707</td>\n",
       "      <td>2023-04-12</td>\n",
       "    </tr>\n",
       "    <tr>\n",
       "      <th>1</th>\n",
       "      <td>96.704466</td>\n",
       "      <td>106.165696</td>\n",
       "      <td>107.098697</td>\n",
       "      <td>2023-04-13</td>\n",
       "    </tr>\n",
       "    <tr>\n",
       "      <th>2</th>\n",
       "      <td>95.361978</td>\n",
       "      <td>102.318377</td>\n",
       "      <td>NaN</td>\n",
       "      <td>2023-04-14</td>\n",
       "    </tr>\n",
       "    <tr>\n",
       "      <th>3</th>\n",
       "      <td>96.169666</td>\n",
       "      <td>104.488549</td>\n",
       "      <td>106.306717</td>\n",
       "      <td>2023-04-15</td>\n",
       "    </tr>\n",
       "    <tr>\n",
       "      <th>4</th>\n",
       "      <td>96.819714</td>\n",
       "      <td>106.475325</td>\n",
       "      <td>107.043957</td>\n",
       "      <td>2023-04-16</td>\n",
       "    </tr>\n",
       "  </tbody>\n",
       "</table>\n",
       "</div>"
      ],
      "text/plain": [
       "      Price1      Price2      Price3        Date\n",
       "0  94.183334  100.328416  105.194707  2023-04-12\n",
       "1  96.704466  106.165696  107.098697  2023-04-13\n",
       "2  95.361978  102.318377         NaN  2023-04-14\n",
       "3  96.169666  104.488549  106.306717  2023-04-15\n",
       "4  96.819714  106.475325  107.043957  2023-04-16"
      ]
     },
     "execution_count": 217,
     "metadata": {},
     "output_type": "execute_result"
    }
   ],
   "source": [
    "import pandas as pd\n",
    "p1 = pd.read_csv('problem1.csv')\n",
    "p1.head()"
   ]
  },
  {
   "cell_type": "code",
   "execution_count": 218,
   "metadata": {},
   "outputs": [
    {
     "data": {
      "text/html": [
       "<div>\n",
       "<style scoped>\n",
       "    .dataframe tbody tr th:only-of-type {\n",
       "        vertical-align: middle;\n",
       "    }\n",
       "\n",
       "    .dataframe tbody tr th {\n",
       "        vertical-align: top;\n",
       "    }\n",
       "\n",
       "    .dataframe thead th {\n",
       "        text-align: right;\n",
       "    }\n",
       "</style>\n",
       "<table border=\"1\" class=\"dataframe\">\n",
       "  <thead>\n",
       "    <tr style=\"text-align: right;\">\n",
       "      <th></th>\n",
       "      <th>Price1</th>\n",
       "      <th>Price2</th>\n",
       "      <th>Price3</th>\n",
       "    </tr>\n",
       "  </thead>\n",
       "  <tbody>\n",
       "    <tr>\n",
       "      <th>1</th>\n",
       "      <td>0.026416</td>\n",
       "      <td>0.056552</td>\n",
       "      <td>0.017938</td>\n",
       "    </tr>\n",
       "    <tr>\n",
       "      <th>2</th>\n",
       "      <td>-0.013980</td>\n",
       "      <td>-0.036912</td>\n",
       "      <td>NaN</td>\n",
       "    </tr>\n",
       "    <tr>\n",
       "      <th>3</th>\n",
       "      <td>0.008434</td>\n",
       "      <td>0.020988</td>\n",
       "      <td>NaN</td>\n",
       "    </tr>\n",
       "    <tr>\n",
       "      <th>4</th>\n",
       "      <td>0.006737</td>\n",
       "      <td>0.018836</td>\n",
       "      <td>0.006911</td>\n",
       "    </tr>\n",
       "    <tr>\n",
       "      <th>5</th>\n",
       "      <td>-0.002865</td>\n",
       "      <td>-0.008917</td>\n",
       "      <td>-0.002980</td>\n",
       "    </tr>\n",
       "    <tr>\n",
       "      <th>6</th>\n",
       "      <td>-0.004938</td>\n",
       "      <td>0.004920</td>\n",
       "      <td>0.002172</td>\n",
       "    </tr>\n",
       "    <tr>\n",
       "      <th>7</th>\n",
       "      <td>0.001848</td>\n",
       "      <td>-0.020292</td>\n",
       "      <td>-0.014717</td>\n",
       "    </tr>\n",
       "    <tr>\n",
       "      <th>8</th>\n",
       "      <td>-0.003057</td>\n",
       "      <td>0.005509</td>\n",
       "      <td>0.006038</td>\n",
       "    </tr>\n",
       "    <tr>\n",
       "      <th>9</th>\n",
       "      <td>-0.004712</td>\n",
       "      <td>-0.009511</td>\n",
       "      <td>0.003515</td>\n",
       "    </tr>\n",
       "    <tr>\n",
       "      <th>10</th>\n",
       "      <td>0.005624</td>\n",
       "      <td>0.016691</td>\n",
       "      <td>0.003364</td>\n",
       "    </tr>\n",
       "    <tr>\n",
       "      <th>11</th>\n",
       "      <td>0.006577</td>\n",
       "      <td>0.012261</td>\n",
       "      <td>0.005265</td>\n",
       "    </tr>\n",
       "    <tr>\n",
       "      <th>12</th>\n",
       "      <td>-0.001007</td>\n",
       "      <td>-0.009713</td>\n",
       "      <td>-0.005714</td>\n",
       "    </tr>\n",
       "    <tr>\n",
       "      <th>13</th>\n",
       "      <td>0.005900</td>\n",
       "      <td>0.026144</td>\n",
       "      <td>0.007212</td>\n",
       "    </tr>\n",
       "    <tr>\n",
       "      <th>14</th>\n",
       "      <td>NaN</td>\n",
       "      <td>NaN</td>\n",
       "      <td>-0.014589</td>\n",
       "    </tr>\n",
       "    <tr>\n",
       "      <th>15</th>\n",
       "      <td>NaN</td>\n",
       "      <td>NaN</td>\n",
       "      <td>0.013114</td>\n",
       "    </tr>\n",
       "    <tr>\n",
       "      <th>16</th>\n",
       "      <td>-0.004866</td>\n",
       "      <td>-0.009715</td>\n",
       "      <td>-0.009421</td>\n",
       "    </tr>\n",
       "    <tr>\n",
       "      <th>17</th>\n",
       "      <td>-0.002944</td>\n",
       "      <td>-0.014893</td>\n",
       "      <td>-0.000713</td>\n",
       "    </tr>\n",
       "    <tr>\n",
       "      <th>18</th>\n",
       "      <td>NaN</td>\n",
       "      <td>0.000600</td>\n",
       "      <td>-0.000688</td>\n",
       "    </tr>\n",
       "    <tr>\n",
       "      <th>19</th>\n",
       "      <td>NaN</td>\n",
       "      <td>NaN</td>\n",
       "      <td>NaN</td>\n",
       "    </tr>\n",
       "  </tbody>\n",
       "</table>\n",
       "</div>"
      ],
      "text/plain": [
       "      Price1    Price2    Price3\n",
       "1   0.026416  0.056552  0.017938\n",
       "2  -0.013980 -0.036912       NaN\n",
       "3   0.008434  0.020988       NaN\n",
       "4   0.006737  0.018836  0.006911\n",
       "5  -0.002865 -0.008917 -0.002980\n",
       "6  -0.004938  0.004920  0.002172\n",
       "7   0.001848 -0.020292 -0.014717\n",
       "8  -0.003057  0.005509  0.006038\n",
       "9  -0.004712 -0.009511  0.003515\n",
       "10  0.005624  0.016691  0.003364\n",
       "11  0.006577  0.012261  0.005265\n",
       "12 -0.001007 -0.009713 -0.005714\n",
       "13  0.005900  0.026144  0.007212\n",
       "14       NaN       NaN -0.014589\n",
       "15       NaN       NaN  0.013114\n",
       "16 -0.004866 -0.009715 -0.009421\n",
       "17 -0.002944 -0.014893 -0.000713\n",
       "18       NaN  0.000600 -0.000688\n",
       "19       NaN       NaN       NaN"
      ]
     },
     "execution_count": 218,
     "metadata": {},
     "output_type": "execute_result"
    }
   ],
   "source": [
    "log_r = riskStats.return_calculate(p1, 'LOG')\n",
    "log_r = log_r.iloc[:, 1:]\n",
    "# This is the log return\n",
    "log_r"
   ]
  },
  {
   "cell_type": "code",
   "execution_count": 219,
   "metadata": {},
   "outputs": [
    {
     "data": {
      "text/plain": [
       "array([[8.46145916e-05, 1.89639683e-04, 4.70100075e-05],\n",
       "       [1.89639683e-04, 4.89528203e-04, 1.42914435e-04],\n",
       "       [4.70100075e-05, 1.42914435e-04, 8.19544084e-05]])"
      ]
     },
     "execution_count": 219,
     "metadata": {},
     "output_type": "execute_result"
    }
   ],
   "source": [
    "def pcov(df):\n",
    "    vars =df.var()\n",
    "    std = np.sqrt(vars)\n",
    "    # Get the pearson correlation matrix\n",
    "    corr = np.corrcoef(df,rowvar=False)\n",
    "    cov = np.diag(std) @ corr @ np.diag(std)\n",
    "    return cov\n",
    "\n",
    "p_cov = covar.missing_cov(log_r,skipmiss=False, func = pcov)\n",
    "# This is the pairwise correlation\n",
    "p_cov"
   ]
  },
  {
   "cell_type": "code",
   "execution_count": 220,
   "metadata": {},
   "outputs": [
    {
     "data": {
      "text/plain": [
       "(array([6.07412292e-04, 7.39275901e-06, 4.12921522e-05]),\n",
       " array([[-0.34961036, -0.87362902, -0.33844487],\n",
       "        [-0.89566344,  0.4176416 , -0.15284795],\n",
       "        [-0.27488106, -0.24969547,  0.92848941]]))"
      ]
     },
     "execution_count": 220,
     "metadata": {},
     "output_type": "execute_result"
    }
   ],
   "source": [
    "import numpy as np \n",
    "\n",
    "np.linalg.eig(p_cov)\n",
    "# The eigenvalues are all positive, so this is a PSD matrix"
   ]
  },
  {
   "cell_type": "code",
   "execution_count": 221,
   "metadata": {},
   "outputs": [],
   "source": [
    "# Price1 and Price2 have a high positive correlation of 0.900665, which means that they tend to move in the same direction. \n",
    "# Price3 also has a positive correlation with both Price1 and Price2, but the correlation is weaker.\n",
    "# This can be seen when one of the three is a security and the other two are its financial derivatives."
   ]
  },
  {
   "attachments": {},
   "cell_type": "markdown",
   "metadata": {},
   "source": [
    "## Problem 2"
   ]
  },
  {
   "attachments": {},
   "cell_type": "markdown",
   "metadata": {},
   "source": [
    "2. “problem2.csv” contains data about a call option. Time to maturity is given in days. Assume 255\n",
    "days in a year.\n",
    "a. Calculate the call price (1pt)\n",
    "b. Calculate Delta (1pt)\n",
    "c. Calculate Gamma (1pt)\n",
    "d. Calculate Vega (1pt)\n",
    "e. Calculate Rho (1pt)\n",
    "Assume you are long 1 share of underlying and are short 1 call option. Using Monte Carlo\n",
    "assuming a Normal distribution of arithmetic returns where the implied volatility is the annual\n",
    "volatility and 0 mean\n",
    "f. Calculate VaR at 5% (2pt)\n",
    "g. Calculate ES at 5% (2pt)\n",
    "h. This portfolio’s payoff structure most closely resembles what? (1pt)"
   ]
  },
  {
   "cell_type": "code",
   "execution_count": 222,
   "metadata": {},
   "outputs": [],
   "source": [
    "p2 = pd.read_csv('problem2.csv')\n",
    "df = p2"
   ]
  },
  {
   "cell_type": "code",
   "execution_count": 223,
   "metadata": {},
   "outputs": [],
   "source": [
    "S = df['Underlying'].iloc[0]\n",
    "K = df['Strike'].iloc[0]\n",
    "sigma = df['IV'].iloc[0]\n",
    "T = df['TTM'].iloc[0] / 255\n",
    "r = df['RF'].iloc[0]\n",
    "q = df['DivRate'].iloc[0]"
   ]
  },
  {
   "cell_type": "code",
   "execution_count": 224,
   "metadata": {},
   "outputs": [
    {
     "data": {
      "text/plain": [
       "(5.480608877402638,\n",
       " 0.5789738538909803,\n",
       " 0.03297181407321243,\n",
       " 27.135022800729487,\n",
       " -4.439070911517648,\n",
       " 27.038088730337417)"
      ]
     },
     "execution_count": 224,
     "metadata": {},
     "output_type": "execute_result"
    }
   ],
   "source": [
    "bsm.gbsm_greeks(S, K, 0, T, r, q, sigma, option_type='call')"
   ]
  },
  {
   "cell_type": "code",
   "execution_count": 225,
   "metadata": {},
   "outputs": [],
   "source": [
    "# a. Calculate the call price: 5.480608877402638\n",
    "# b. Calculate Delta (1pt): 0.5789738538909803\n",
    "# c. Calculate Gamma (1pt): 0.03297181407321243\n",
    "# d. Calculate Vega (1pt): 27.135022800729487\n",
    "# e. Calculate Rho (1pt): -4.439070911517648"
   ]
  },
  {
   "cell_type": "code",
   "execution_count": 226,
   "metadata": {},
   "outputs": [
    {
     "name": "stdout",
     "output_type": "stream",
     "text": [
      "VaR at 5%: 81.99313948083511\n",
      "ES at 5%: 78.20025352028976\n"
     ]
    }
   ],
   "source": [
    "import pandas as pd\n",
    "import numpy as np\n",
    "from scipy.stats import norm\n",
    "\n",
    "num_scenarios = 10000\n",
    "\n",
    "# Generate random scenarios for future price\n",
    "scenarios = S * np.exp((r - q - 0.5 * sigma ** 2) * T + sigma * np.sqrt(T) * np.random.normal(0, 1, num_scenarios))\n",
    "\n",
    "# Calculate portfolio value for each scenario\n",
    "portfolio_values = -np.maximum(scenarios - K, 0) + scenarios\n",
    "\n",
    "# Calculate VaR at 5%\n",
    "var = riskStats.VAR(portfolio_values)\n",
    "\n",
    "# Calculate ES at 5%\n",
    "es = riskStats.ES(portfolio_values)\n",
    "\n",
    "print(f'VaR at 5%: {-var}')\n",
    "print(f'ES at 5%: {-es}')\n"
   ]
  },
  {
   "cell_type": "code",
   "execution_count": 227,
   "metadata": {},
   "outputs": [
    {
     "data": {
      "text/plain": [
       "(-1.6602361215309842, 2.2506286032826104)"
      ]
     },
     "execution_count": 227,
     "metadata": {},
     "output_type": "execute_result"
    }
   ],
   "source": [
    "from scipy.stats import skew, kurtosis\n",
    "skew(portfolio_values), kurtosis(portfolio_values)"
   ]
  },
  {
   "cell_type": "code",
   "execution_count": 228,
   "metadata": {},
   "outputs": [],
   "source": [
    "# Negative Skew makes this a risky investment because most of portfolio values fall into the left.\n",
    "# This is seen with the large VaR and ES numbers."
   ]
  },
  {
   "attachments": {},
   "cell_type": "markdown",
   "metadata": {},
   "source": [
    "## Problem 3"
   ]
  },
  {
   "attachments": {},
   "cell_type": "markdown",
   "metadata": {},
   "source": [
    "3. Data in “problem2_cov.csv” is the covariance for 3 assets. “problem3_ER.csv” is the expected\n",
    "return for each asset as well as the risk free rate.\n",
    "a. Calculate the Maximum Sharpe Ratio Portfolio (4pt)\n",
    "b. Calculate the Risk Parity Portfolio (4pt)\n",
    "c. Compare the differences between the portfolio and explain why. (2pt)"
   ]
  },
  {
   "cell_type": "code",
   "execution_count": 229,
   "metadata": {},
   "outputs": [],
   "source": [
    "cov = pd.read_csv('problem3_cov.csv')\n",
    "er3 = pd.read_csv('problem3_ER.csv')"
   ]
  },
  {
   "cell_type": "code",
   "execution_count": 230,
   "metadata": {},
   "outputs": [
    {
     "data": {
      "text/plain": [
       "array([[0.03847047, 0.03556668, 0.03726546],\n",
       "       [0.03556668, 0.03567933, 0.03588815],\n",
       "       [0.03726546, 0.03588815, 0.03916904]])"
      ]
     },
     "execution_count": 230,
     "metadata": {},
     "output_type": "execute_result"
    }
   ],
   "source": [
    "cov.values"
   ]
  },
  {
   "cell_type": "code",
   "execution_count": 231,
   "metadata": {},
   "outputs": [
    {
     "data": {
      "text/html": [
       "<div>\n",
       "<style scoped>\n",
       "    .dataframe tbody tr th:only-of-type {\n",
       "        vertical-align: middle;\n",
       "    }\n",
       "\n",
       "    .dataframe tbody tr th {\n",
       "        vertical-align: top;\n",
       "    }\n",
       "\n",
       "    .dataframe thead th {\n",
       "        text-align: right;\n",
       "    }\n",
       "</style>\n",
       "<table border=\"1\" class=\"dataframe\">\n",
       "  <thead>\n",
       "    <tr style=\"text-align: right;\">\n",
       "      <th></th>\n",
       "      <th>RF</th>\n",
       "      <th>Expected_Value_1</th>\n",
       "      <th>Expected_Value_2</th>\n",
       "      <th>Expected_Value_3</th>\n",
       "    </tr>\n",
       "  </thead>\n",
       "  <tbody>\n",
       "    <tr>\n",
       "      <th>0</th>\n",
       "      <td>0.045</td>\n",
       "      <td>0.141188</td>\n",
       "      <td>0.137633</td>\n",
       "      <td>0.142058</td>\n",
       "    </tr>\n",
       "  </tbody>\n",
       "</table>\n",
       "</div>"
      ],
      "text/plain": [
       "      RF  Expected_Value_1  Expected_Value_2  Expected_Value_3\n",
       "0  0.045          0.141188          0.137633          0.142058"
      ]
     },
     "execution_count": 231,
     "metadata": {},
     "output_type": "execute_result"
    }
   ],
   "source": [
    "er3"
   ]
  },
  {
   "cell_type": "code",
   "execution_count": 232,
   "metadata": {},
   "outputs": [
    {
     "data": {
      "text/plain": [
       "(array([0.3333, 0.3333, 0.3333]), 0.4970805979987282)"
      ]
     },
     "execution_count": 232,
     "metadata": {},
     "output_type": "execute_result"
    }
   ],
   "source": [
    "from scipy.optimize import minimize\n",
    "\n",
    "er = [0.141188372907701, 0.137633309103119, 0.142057758369346]\n",
    "rf = 0.045\n",
    "\n",
    "def max_sharpe_ratio_weights(exp_returns, rf, cov_matrix, restrict=\"True\"):\n",
    "    num_stocks = len(exp_returns)\n",
    "\n",
    "    # Define the Sharpe Ratio objective function to be minimized\n",
    "    def neg_sharpe_ratio(weights):\n",
    "        port_return = np.dot(weights, exp_returns)\n",
    "        port_volatility = np.sqrt(np.dot(weights.T, np.dot(cov_matrix, weights)))\n",
    "        sharpe_ratio = (port_return - rf) / port_volatility\n",
    "        return -sharpe_ratio\n",
    "    \n",
    "    # Define the constraints\n",
    "    constraints = ({'type': 'eq', 'fun': lambda x: np.sum(x) - 1}) # The sum of the weights must be 1\n",
    "    if restrict == \"True\":\n",
    "        bounds = tuple([(0, 1) for i in range(num_stocks)]) # The weights must be between 0 and 1\n",
    "        initial_weights = np.ones(num_stocks) / num_stocks # Start with equal weights\n",
    "        opt_results = minimize(neg_sharpe_ratio, initial_weights, method='SLSQP', bounds=bounds, constraints=constraints)\n",
    "    elif restrict == \"False\":\n",
    "        bounds = tuple([(-1, 1) for i in range(num_stocks)]) # The weights must be between -1 and 1\n",
    "        initial_weights = np.ones(num_stocks) / num_stocks # Start with equal weights\n",
    "        opt_results = minimize(neg_sharpe_ratio, initial_weights, method='SLSQP', constraints=constraints)\n",
    "    # Find the portfolio weights that maximize the Sharpe Ratio\n",
    "\n",
    "    return opt_results.x.round(4), -opt_results.fun\n",
    "\n",
    "max_sharpe_ratio_weights(er, rf, cov.values)"
   ]
  },
  {
   "cell_type": "code",
   "execution_count": 233,
   "metadata": {},
   "outputs": [],
   "source": [
    "# The maximum sharpe portfolio is [0.3333, 0.3333, 0.3333]."
   ]
  },
  {
   "cell_type": "code",
   "execution_count": 234,
   "metadata": {},
   "outputs": [
    {
     "data": {
      "text/plain": [
       "array([0.3301, 0.3428, 0.3271])"
      ]
     },
     "execution_count": 234,
     "metadata": {},
     "output_type": "execute_result"
    }
   ],
   "source": [
    "def risk_parity_weights(covar):\n",
    "    n = covar.shape[1]\n",
    "    def pvol(x):\n",
    "        return np.sqrt(x.T @ covar @ x)\n",
    "\n",
    "    def pCSD(x):\n",
    "        p_vol = pvol(x)\n",
    "        csd = x * (covar @ x) / p_vol\n",
    "        return csd\n",
    "\n",
    "    def sseCSD(x):\n",
    "        csd = pCSD(x)\n",
    "        mCSD = np.sum(csd) / n\n",
    "        dCsd = csd - mCSD\n",
    "        se = dCsd * dCsd\n",
    "        return 1.0e5 * np.sum(se)\n",
    "\n",
    "    # Constraints\n",
    "    cons = ({'type': 'eq', 'fun': lambda w: np.sum(w) - 1})\n",
    "\n",
    "    # Bounds\n",
    "    bnds = [(0, None) for _ in range(n)]\n",
    "\n",
    "    # Initial guess\n",
    "    x0 = np.array([1/n] * n)\n",
    "    res = minimize(sseCSD, x0, method='SLSQP', bounds=bnds, constraints=cons)\n",
    "    return np.round(res.x, decimals=4)\n",
    "\n",
    "risk_parity_weights(cov.values)"
   ]
  },
  {
   "cell_type": "code",
   "execution_count": 235,
   "metadata": {},
   "outputs": [],
   "source": [
    "# The risk parity portfolio is [0.3301, 0.3428, 0.3271]."
   ]
  },
  {
   "cell_type": "code",
   "execution_count": 236,
   "metadata": {},
   "outputs": [],
   "source": [
    "# The risk parity portfolio has more weights on the second asset and less weight on the third asset. \n",
    "# This is because the second asset has a lower return and lower volatility. \n",
    "# On the other hand, the third asset has the highest return and volatility."
   ]
  },
  {
   "attachments": {},
   "cell_type": "markdown",
   "metadata": {},
   "source": [
    "## Problem 4"
   ]
  },
  {
   "attachments": {},
   "cell_type": "markdown",
   "metadata": {},
   "source": [
    "4. Data in “problem4_returns.csv” is a series of returns for 3 assets. “problem4_startWeight.csv” is\n",
    "the starting weights of a portfolio of these assets as of the first day in the return series.\n",
    "a. Calculate the new weights for the start of each time period (2pt)\n",
    "b. Calculate the ex-post return attribution of the portfolio on each asset (4pt)\n",
    "c. Calculate the ex-post risk attribution of the portfolio on each asset (2pt)"
   ]
  },
  {
   "cell_type": "code",
   "execution_count": 237,
   "metadata": {},
   "outputs": [
    {
     "data": {
      "text/html": [
       "<div>\n",
       "<style scoped>\n",
       "    .dataframe tbody tr th:only-of-type {\n",
       "        vertical-align: middle;\n",
       "    }\n",
       "\n",
       "    .dataframe tbody tr th {\n",
       "        vertical-align: top;\n",
       "    }\n",
       "\n",
       "    .dataframe thead th {\n",
       "        text-align: right;\n",
       "    }\n",
       "</style>\n",
       "<table border=\"1\" class=\"dataframe\">\n",
       "  <thead>\n",
       "    <tr style=\"text-align: right;\">\n",
       "      <th></th>\n",
       "      <th>Asset1</th>\n",
       "      <th>Asset2</th>\n",
       "      <th>Asset3</th>\n",
       "      <th>Date</th>\n",
       "    </tr>\n",
       "  </thead>\n",
       "  <tbody>\n",
       "    <tr>\n",
       "      <th>0</th>\n",
       "      <td>-0.046684</td>\n",
       "      <td>0.041869</td>\n",
       "      <td>-0.004892</td>\n",
       "      <td>2023-04-12</td>\n",
       "    </tr>\n",
       "    <tr>\n",
       "      <th>1</th>\n",
       "      <td>-0.090208</td>\n",
       "      <td>0.015082</td>\n",
       "      <td>-0.031945</td>\n",
       "      <td>2023-04-13</td>\n",
       "    </tr>\n",
       "    <tr>\n",
       "      <th>2</th>\n",
       "      <td>-0.047394</td>\n",
       "      <td>-0.145864</td>\n",
       "      <td>0.053473</td>\n",
       "      <td>2023-04-14</td>\n",
       "    </tr>\n",
       "    <tr>\n",
       "      <th>3</th>\n",
       "      <td>-0.053670</td>\n",
       "      <td>0.010180</td>\n",
       "      <td>-0.042510</td>\n",
       "      <td>2023-04-15</td>\n",
       "    </tr>\n",
       "    <tr>\n",
       "      <th>4</th>\n",
       "      <td>0.048936</td>\n",
       "      <td>-0.034171</td>\n",
       "      <td>-0.141175</td>\n",
       "      <td>2023-04-16</td>\n",
       "    </tr>\n",
       "  </tbody>\n",
       "</table>\n",
       "</div>"
      ],
      "text/plain": [
       "     Asset1    Asset2    Asset3        Date\n",
       "0 -0.046684  0.041869 -0.004892  2023-04-12\n",
       "1 -0.090208  0.015082 -0.031945  2023-04-13\n",
       "2 -0.047394 -0.145864  0.053473  2023-04-14\n",
       "3 -0.053670  0.010180 -0.042510  2023-04-15\n",
       "4  0.048936 -0.034171 -0.141175  2023-04-16"
      ]
     },
     "execution_count": 237,
     "metadata": {},
     "output_type": "execute_result"
    }
   ],
   "source": [
    "p4_r = pd.read_csv('problem4_returns.csv')\n",
    "p4_r.head()"
   ]
  },
  {
   "cell_type": "code",
   "execution_count": 238,
   "metadata": {},
   "outputs": [
    {
     "data": {
      "text/html": [
       "<div>\n",
       "<style scoped>\n",
       "    .dataframe tbody tr th:only-of-type {\n",
       "        vertical-align: middle;\n",
       "    }\n",
       "\n",
       "    .dataframe tbody tr th {\n",
       "        vertical-align: top;\n",
       "    }\n",
       "\n",
       "    .dataframe thead th {\n",
       "        text-align: right;\n",
       "    }\n",
       "</style>\n",
       "<table border=\"1\" class=\"dataframe\">\n",
       "  <thead>\n",
       "    <tr style=\"text-align: right;\">\n",
       "      <th></th>\n",
       "      <th>weight1</th>\n",
       "      <th>weight2</th>\n",
       "      <th>weight3</th>\n",
       "    </tr>\n",
       "  </thead>\n",
       "  <tbody>\n",
       "    <tr>\n",
       "      <th>0</th>\n",
       "      <td>0.521223</td>\n",
       "      <td>0.360809</td>\n",
       "      <td>0.117968</td>\n",
       "    </tr>\n",
       "  </tbody>\n",
       "</table>\n",
       "</div>"
      ],
      "text/plain": [
       "    weight1   weight2   weight3\n",
       "0  0.521223  0.360809  0.117968"
      ]
     },
     "execution_count": 238,
     "metadata": {},
     "output_type": "execute_result"
    }
   ],
   "source": [
    "p4_w = pd.read_csv('problem4_startWeight.csv')\n",
    "p4_w"
   ]
  },
  {
   "cell_type": "code",
   "execution_count": 239,
   "metadata": {},
   "outputs": [
    {
     "data": {
      "text/html": [
       "<div>\n",
       "<style scoped>\n",
       "    .dataframe tbody tr th:only-of-type {\n",
       "        vertical-align: middle;\n",
       "    }\n",
       "\n",
       "    .dataframe tbody tr th {\n",
       "        vertical-align: top;\n",
       "    }\n",
       "\n",
       "    .dataframe thead th {\n",
       "        text-align: right;\n",
       "    }\n",
       "</style>\n",
       "<table border=\"1\" class=\"dataframe\">\n",
       "  <thead>\n",
       "    <tr style=\"text-align: right;\">\n",
       "      <th></th>\n",
       "      <th>weight1</th>\n",
       "      <th>weight2</th>\n",
       "      <th>weight3</th>\n",
       "    </tr>\n",
       "  </thead>\n",
       "  <tbody>\n",
       "    <tr>\n",
       "      <th>0</th>\n",
       "      <td>0.521223</td>\n",
       "      <td>0.360809</td>\n",
       "      <td>0.117968</td>\n",
       "    </tr>\n",
       "    <tr>\n",
       "      <th>1</th>\n",
       "      <td>0.501810</td>\n",
       "      <td>0.379637</td>\n",
       "      <td>0.118553</td>\n",
       "    </tr>\n",
       "    <tr>\n",
       "      <th>2</th>\n",
       "      <td>0.477220</td>\n",
       "      <td>0.402817</td>\n",
       "      <td>0.119964</td>\n",
       "    </tr>\n",
       "    <tr>\n",
       "      <th>3</th>\n",
       "      <td>0.491440</td>\n",
       "      <td>0.371940</td>\n",
       "      <td>0.136619</td>\n",
       "    </tr>\n",
       "    <tr>\n",
       "      <th>4</th>\n",
       "      <td>0.478657</td>\n",
       "      <td>0.386708</td>\n",
       "      <td>0.134635</td>\n",
       "    </tr>\n",
       "    <tr>\n",
       "      <th>5</th>\n",
       "      <td>0.506537</td>\n",
       "      <td>0.376809</td>\n",
       "      <td>0.116654</td>\n",
       "    </tr>\n",
       "    <tr>\n",
       "      <th>6</th>\n",
       "      <td>0.496037</td>\n",
       "      <td>0.387226</td>\n",
       "      <td>0.116736</td>\n",
       "    </tr>\n",
       "    <tr>\n",
       "      <th>7</th>\n",
       "      <td>0.490277</td>\n",
       "      <td>0.396832</td>\n",
       "      <td>0.112891</td>\n",
       "    </tr>\n",
       "    <tr>\n",
       "      <th>8</th>\n",
       "      <td>0.466052</td>\n",
       "      <td>0.421569</td>\n",
       "      <td>0.112380</td>\n",
       "    </tr>\n",
       "    <tr>\n",
       "      <th>9</th>\n",
       "      <td>0.463343</td>\n",
       "      <td>0.413444</td>\n",
       "      <td>0.123212</td>\n",
       "    </tr>\n",
       "    <tr>\n",
       "      <th>10</th>\n",
       "      <td>0.441196</td>\n",
       "      <td>0.429086</td>\n",
       "      <td>0.129718</td>\n",
       "    </tr>\n",
       "    <tr>\n",
       "      <th>11</th>\n",
       "      <td>0.444068</td>\n",
       "      <td>0.427784</td>\n",
       "      <td>0.128148</td>\n",
       "    </tr>\n",
       "    <tr>\n",
       "      <th>12</th>\n",
       "      <td>0.460563</td>\n",
       "      <td>0.400102</td>\n",
       "      <td>0.139335</td>\n",
       "    </tr>\n",
       "    <tr>\n",
       "      <th>13</th>\n",
       "      <td>0.467940</td>\n",
       "      <td>0.398165</td>\n",
       "      <td>0.133895</td>\n",
       "    </tr>\n",
       "    <tr>\n",
       "      <th>14</th>\n",
       "      <td>0.500517</td>\n",
       "      <td>0.367254</td>\n",
       "      <td>0.132229</td>\n",
       "    </tr>\n",
       "    <tr>\n",
       "      <th>15</th>\n",
       "      <td>0.488969</td>\n",
       "      <td>0.375246</td>\n",
       "      <td>0.135785</td>\n",
       "    </tr>\n",
       "    <tr>\n",
       "      <th>16</th>\n",
       "      <td>0.452390</td>\n",
       "      <td>0.390544</td>\n",
       "      <td>0.157066</td>\n",
       "    </tr>\n",
       "    <tr>\n",
       "      <th>17</th>\n",
       "      <td>0.437223</td>\n",
       "      <td>0.409081</td>\n",
       "      <td>0.153696</td>\n",
       "    </tr>\n",
       "    <tr>\n",
       "      <th>18</th>\n",
       "      <td>0.451568</td>\n",
       "      <td>0.413136</td>\n",
       "      <td>0.135296</td>\n",
       "    </tr>\n",
       "    <tr>\n",
       "      <th>19</th>\n",
       "      <td>0.423560</td>\n",
       "      <td>0.435019</td>\n",
       "      <td>0.141421</td>\n",
       "    </tr>\n",
       "  </tbody>\n",
       "</table>\n",
       "</div>"
      ],
      "text/plain": [
       "     weight1   weight2   weight3\n",
       "0   0.521223  0.360809  0.117968\n",
       "1   0.501810  0.379637  0.118553\n",
       "2   0.477220  0.402817  0.119964\n",
       "3   0.491440  0.371940  0.136619\n",
       "4   0.478657  0.386708  0.134635\n",
       "5   0.506537  0.376809  0.116654\n",
       "6   0.496037  0.387226  0.116736\n",
       "7   0.490277  0.396832  0.112891\n",
       "8   0.466052  0.421569  0.112380\n",
       "9   0.463343  0.413444  0.123212\n",
       "10  0.441196  0.429086  0.129718\n",
       "11  0.444068  0.427784  0.128148\n",
       "12  0.460563  0.400102  0.139335\n",
       "13  0.467940  0.398165  0.133895\n",
       "14  0.500517  0.367254  0.132229\n",
       "15  0.488969  0.375246  0.135785\n",
       "16  0.452390  0.390544  0.157066\n",
       "17  0.437223  0.409081  0.153696\n",
       "18  0.451568  0.413136  0.135296\n",
       "19  0.423560  0.435019  0.141421"
      ]
     },
     "execution_count": 239,
     "metadata": {},
     "output_type": "execute_result"
    }
   ],
   "source": [
    "# Load data\n",
    "returns = p4_r.iloc[:, :3]\n",
    "start_weight = pd.read_csv('problem4_startWeight.csv')\n",
    "\n",
    "# Calculate new weights\n",
    "w = start_weight.copy()\n",
    "for i in range(1, len(returns)):\n",
    "    w.loc[i] = w.loc[i-1] * (1 + returns.iloc[i-1].values)\n",
    "    w.loc[i] /= w.loc[i].sum()\n",
    "\n",
    "# These are the new weights\n",
    "w"
   ]
  },
  {
   "cell_type": "code",
   "execution_count": 240,
   "metadata": {},
   "outputs": [
    {
     "name": "stdout",
     "output_type": "stream",
     "text": [
      "                Value    Asset1    Asset2    Asset3  Portfolio\n",
      "0         TotalReturn -0.426018 -0.104639 -0.128839  -0.244185\n",
      "1  Return Attribution -0.181572 -0.042268 -0.020345  -0.244185\n",
      "2     Vol Attribution  0.012737  0.017603  0.002870   0.033210\n"
     ]
    }
   ],
   "source": [
    "stocks = ['Asset1', 'Asset2', 'Asset3']\n",
    "optimal_weights = w.iloc[-1]\n",
    "\n",
    "# Calculate portfolio return and updated weights for each day\n",
    "n = p4_r.shape[0]\n",
    "m = len(stocks)\n",
    "\n",
    "pReturn = np.empty(n)\n",
    "weights = np.empty((n, len(optimal_weights)))\n",
    "lastW = optimal_weights.copy()\n",
    "matReturns = p4_r[stocks].values\n",
    "\n",
    "for i in range(n):\n",
    "    # Save Current Weights in Matrix\n",
    "    weights[i, :] = lastW\n",
    "\n",
    "    # Update Weights by return\n",
    "    lastW = lastW * (1.0 + matReturns[i, :])\n",
    "\n",
    "    # Portfolio return is the sum of the updated weights\n",
    "    pR = lastW.sum()\n",
    "\n",
    "    # Normalize the weights back so sum = 1\n",
    "    lastW = lastW / pR\n",
    "\n",
    "    # Store the return\n",
    "    pReturn[i] = pR - 1\n",
    "\n",
    "# Set the portfolio return in the Update Return DataFrame\n",
    "p4_r[\"Portfolio\"] = pReturn\n",
    "\n",
    "# Calculate the total return\n",
    "totalRet = np.exp(np.sum(np.log(pReturn + 1))) - 1\n",
    "\n",
    "# Calculate the Carino K\n",
    "k = np.log(totalRet + 1) / totalRet\n",
    "\n",
    "# Carino k_t is the ratio scaled by 1/K\n",
    "carinoK = np.log(1.0 + pReturn) / pReturn / k\n",
    "\n",
    "# Calculate the return attribution\n",
    "attrib = pd.DataFrame(matReturns * weights * carinoK[:, np.newaxis], columns=stocks)\n",
    "\n",
    "# Set up a DataFrame for output\n",
    "Attribution = pd.DataFrame({\"Value\": [\"TotalReturn\", \"Return Attribution\"]})\n",
    "\n",
    "# Loop over the stocks\n",
    "for s in stocks + [\"Portfolio\"]:\n",
    "    # Total Stock return over the period\n",
    "    tr = np.exp(np.sum(np.log(p4_r[s] + 1))) - 1\n",
    "\n",
    "    # Attribution Return (total portfolio return if we are updating the portfolio column)\n",
    "    atr = tr if s == \"Portfolio\" else attrib[s].sum()\n",
    "\n",
    "    # Set the values\n",
    "    Attribution[s] = [tr, atr]\n",
    "\n",
    "# Check that the attribution sums back to the total Portfolio return\n",
    "assert np.isclose(Attribution.iloc[1, 1:len(stocks) + 1].sum(), totalRet)\n",
    "\n",
    "# Realized Volatility Attribution\n",
    "\n",
    "# Y is our stock returns scaled by their weight at each time\n",
    "Y = matReturns * weights\n",
    "\n",
    "# Set up X with the Portfolio Return\n",
    "X = np.column_stack((np.ones(n), pReturn))\n",
    "\n",
    "# Calculate the Beta and discard the intercept\n",
    "B = np.linalg.inv(X.T @ X) @ X.T @ Y\n",
    "B = B[1, :]\n",
    "\n",
    "# Component SD is Beta times the standard deviation of the portfolio\n",
    "cSD = B * np.std(pReturn)\n",
    "\n",
    "# Check that the sum of component SD is equal to the portfolio SD\n",
    "assert np.isclose(cSD.sum(), np.std(pReturn))\n",
    "\n",
    "# Add the Vol attribution to the output\n",
    "vol_attrib = pd.DataFrame({\"Value\": [\"Vol Attribution\"], **{stocks[i]: [cSD[i]] for i in range(len(stocks))}, \"Portfolio\": [np.std(pReturn)]})\n",
    "\n",
    "Attribution = pd.concat([Attribution, vol_attrib], ignore_index=True)\n",
    "\n",
    "print(Attribution)"
   ]
  },
  {
   "cell_type": "code",
   "execution_count": 241,
   "metadata": {},
   "outputs": [],
   "source": [
    "# These are the return attribution and risk attribution"
   ]
  },
  {
   "attachments": {},
   "cell_type": "markdown",
   "metadata": {},
   "source": [
    "## Problem 5"
   ]
  },
  {
   "cell_type": "code",
   "execution_count": 242,
   "metadata": {},
   "outputs": [
    {
     "name": "stderr",
     "output_type": "stream",
     "text": [
      "d:\\Anaconda\\lib\\site-packages\\numpy\\core\\fromnumeric.py:3438: FutureWarning: In a future version, DataFrame.mean(axis=None) will return a scalar mean over the entire DataFrame. To retain the old behavior, use 'frame.mean(axis=0)' or just 'frame.mean()'\n",
      "  return mean(axis=axis, dtype=dtype, out=out, **kwargs)\n"
     ]
    },
    {
     "data": {
      "text/html": [
       "<div>\n",
       "<style scoped>\n",
       "    .dataframe tbody tr th:only-of-type {\n",
       "        vertical-align: middle;\n",
       "    }\n",
       "\n",
       "    .dataframe tbody tr th {\n",
       "        vertical-align: top;\n",
       "    }\n",
       "\n",
       "    .dataframe thead th {\n",
       "        text-align: right;\n",
       "    }\n",
       "</style>\n",
       "<table border=\"1\" class=\"dataframe\">\n",
       "  <thead>\n",
       "    <tr style=\"text-align: right;\">\n",
       "      <th></th>\n",
       "      <th>Price1</th>\n",
       "      <th>Price2</th>\n",
       "      <th>Price3</th>\n",
       "      <th>Price4</th>\n",
       "    </tr>\n",
       "  </thead>\n",
       "  <tbody>\n",
       "    <tr>\n",
       "      <th>1</th>\n",
       "      <td>-3.385251e-07</td>\n",
       "      <td>-0.000078</td>\n",
       "      <td>-0.000060</td>\n",
       "      <td>-0.000180</td>\n",
       "    </tr>\n",
       "    <tr>\n",
       "      <th>2</th>\n",
       "      <td>-9.558203e-05</td>\n",
       "      <td>0.000082</td>\n",
       "      <td>-0.000652</td>\n",
       "      <td>-0.000029</td>\n",
       "    </tr>\n",
       "    <tr>\n",
       "      <th>3</th>\n",
       "      <td>6.247609e-04</td>\n",
       "      <td>0.000088</td>\n",
       "      <td>0.000634</td>\n",
       "      <td>0.000166</td>\n",
       "    </tr>\n",
       "    <tr>\n",
       "      <th>4</th>\n",
       "      <td>-5.667665e-04</td>\n",
       "      <td>-0.000287</td>\n",
       "      <td>-0.000018</td>\n",
       "      <td>-0.000133</td>\n",
       "    </tr>\n",
       "    <tr>\n",
       "      <th>5</th>\n",
       "      <td>2.681479e-04</td>\n",
       "      <td>0.000253</td>\n",
       "      <td>0.000115</td>\n",
       "      <td>0.000275</td>\n",
       "    </tr>\n",
       "  </tbody>\n",
       "</table>\n",
       "</div>"
      ],
      "text/plain": [
       "         Price1    Price2    Price3    Price4\n",
       "1 -3.385251e-07 -0.000078 -0.000060 -0.000180\n",
       "2 -9.558203e-05  0.000082 -0.000652 -0.000029\n",
       "3  6.247609e-04  0.000088  0.000634  0.000166\n",
       "4 -5.667665e-04 -0.000287 -0.000018 -0.000133\n",
       "5  2.681479e-04  0.000253  0.000115  0.000275"
      ]
     },
     "execution_count": 242,
     "metadata": {},
     "output_type": "execute_result"
    }
   ],
   "source": [
    "p5 = pd.read_csv('problem5.csv')\n",
    "prices = p5.iloc[:, :4]\n",
    "returns = prices.pct_change().dropna(how='all')\n",
    "returns = returns - np.mean(returns)\n",
    "returns.head()"
   ]
  },
  {
   "cell_type": "code",
   "execution_count": 243,
   "metadata": {},
   "outputs": [],
   "source": [
    "from scipy.stats import t, norm, spearmanr, multivariate_normal\n",
    "\n",
    "Y = returns.values\n",
    "corsp = np.cov(Y)\n",
    "\n",
    "nSim = 5000\n",
    "\n",
    "models = [t.fit(Y[:, i]) for i in range(4)]\n",
    "U = np.column_stack([(Y[:, i] - loc) / scale for i, (df, loc, scale) in enumerate(models)])\n",
    "\n",
    "corsp = spearmanr(U).correlation\n",
    "_simU = norm.cdf(multivariate_normal.rvs(mean=np.zeros(4), cov=corsp, size=nSim)).T\n",
    "simReturn = np.empty_like(_simU)\n",
    "\n",
    "for i in range(4):\n",
    "    df, loc, scale = models[i]\n",
    "    simReturn[:, i] = t.ppf(_simU[:, i], df=df, loc=loc, scale=scale)\n",
    "\n",
    "def _VAR(w):\n",
    "    x = np.array(w)\n",
    "    r = np.sum(simReturn * x[:, np.newaxis], axis=0)\n",
    "    return riskStats.VAR(r)"
   ]
  },
  {
   "cell_type": "code",
   "execution_count": 244,
   "metadata": {},
   "outputs": [],
   "source": [
    "price1 = prices[['Price1']]\n",
    "price2 = prices[['Price2']]\n",
    "price3 = prices[['Price3']]\n",
    "price4 = prices[['Price4']]"
   ]
  },
  {
   "cell_type": "code",
   "execution_count": 245,
   "metadata": {},
   "outputs": [
    {
     "data": {
      "text/plain": [
       "-2314.051569110883"
      ]
     },
     "execution_count": 245,
     "metadata": {},
     "output_type": "execute_result"
    }
   ],
   "source": [
    "# VAR of asset1\n",
    "np.mean(_VAR(price1))"
   ]
  },
  {
   "cell_type": "code",
   "execution_count": 246,
   "metadata": {},
   "outputs": [
    {
     "data": {
      "text/plain": [
       "-2953.6580562080417"
      ]
     },
     "execution_count": 246,
     "metadata": {},
     "output_type": "execute_result"
    }
   ],
   "source": [
    "# VAR of asset2\n",
    "np.mean(_VAR(price2))"
   ]
  },
  {
   "cell_type": "code",
   "execution_count": 247,
   "metadata": {},
   "outputs": [
    {
     "data": {
      "text/plain": [
       "-3316.7546082236804"
      ]
     },
     "execution_count": 247,
     "metadata": {},
     "output_type": "execute_result"
    }
   ],
   "source": [
    "# VAR of asset3\n",
    "np.mean(_VAR(price3))"
   ]
  },
  {
   "cell_type": "code",
   "execution_count": 248,
   "metadata": {},
   "outputs": [
    {
     "data": {
      "text/plain": [
       "-3214.5226492329225"
      ]
     },
     "execution_count": 248,
     "metadata": {},
     "output_type": "execute_result"
    }
   ],
   "source": [
    "# VAR of asset4\n",
    "np.mean(_VAR(price4))"
   ]
  },
  {
   "cell_type": "code",
   "execution_count": 249,
   "metadata": {},
   "outputs": [
    {
     "data": {
      "text/plain": [
       "-3214.5226492329225"
      ]
     },
     "execution_count": 249,
     "metadata": {},
     "output_type": "execute_result"
    }
   ],
   "source": [
    "# VAR of asset1&2\n",
    "np.mean(_VAR(price4))"
   ]
  }
 ],
 "metadata": {
  "kernelspec": {
   "display_name": "base",
   "language": "python",
   "name": "python3"
  },
  "language_info": {
   "codemirror_mode": {
    "name": "ipython",
    "version": 3
   },
   "file_extension": ".py",
   "mimetype": "text/x-python",
   "name": "python",
   "nbconvert_exporter": "python",
   "pygments_lexer": "ipython3",
   "version": "3.9.12"
  },
  "orig_nbformat": 4
 },
 "nbformat": 4,
 "nbformat_minor": 2
}
